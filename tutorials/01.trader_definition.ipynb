{
 "cells": [
  {
   "cell_type": "markdown",
   "id": "285594a3-d588-49a8-a694-6b5ed399ac57",
   "metadata": {},
   "source": [
    "## To define a trader"
   ]
  },
  {
   "cell_type": "markdown",
   "id": "38058f67-a5b1-425f-9d23-c99e525c720f",
   "metadata": {},
   "source": [
    "In stockAir, data sets, artificial intelligence models are included in one trader, and model learning is performed. You buy and sell stocks with this generated trader."
   ]
  },
  {
   "cell_type": "markdown",
   "id": "ef153cb5-dcd9-458e-bd9a-337a704571c9",
   "metadata": {},
   "source": [
    "**First,** create an empty list of traders."
   ]
  },
  {
   "cell_type": "code",
   "execution_count": null,
   "id": "be259e64-f132-4d0c-84ac-cb624636097c",
   "metadata": {},
   "outputs": [],
   "source": [
    "lst_trader = [] "
   ]
  },
  {
   "cell_type": "markdown",
   "id": "bac8c30f-d387-4cce-882a-cc5e6625090d",
   "metadata": {},
   "source": [
    "**Next,** define the trader.\n",
    "When defining a trader, you will need the following:\n",
    "\n",
    "#### 1. `conditional_buyer` \n",
    "Object that determines acquisition by dataset filtering conditions\n",
    "\n",
    "- `Conditional_buyer.condition:` Add a dataset filtering condition to the condition method. (For example, only data with a transaction price (end price x transaction volume) of more than 1 billion won.)\n",
    "\n",
    "\n",
    "#### 2. `machinelearning_buyer` \n",
    "Object that determines acquisition by machine learning model\n",
    "\n",
    "- `machinelearning_buyer.algorithm:` Adds a user-defined model to the algorithm method. You can add all machine learning models, such as models in the sklearn package or deep learning models that you define yourself.\n",
    "\n",
    "\n",
    "#### 3. `SubSeller`\n",
    "Objects that determine the sale of all of the following days\n",
    "\n",
    "\n",
    "#### 4. `Trader Object Definitions`\n",
    "- `Trader.name:` Trader Distinguishable Name\n",
    "- `Trader.label:` Set dependent variable type for trader's dataset (regression: reg, classification: class&0.02)\n",
    "    - The default value for the dependent variable of stockAI is the rate of change (next_change) at the closing price of the next day.\n",
    "    - Class&0.02 means binary classification as 1 if the species and rate of change are greater than 0.02 the next day, and 0 if not.\n",
    "\n",
    "- `trader.buyer:` Put two buyers in the form of buyer ([conditional_buyer, machine learning_buyer]).\n",
    "\n",
    "- `trader.seller:` Put it in the form of a seller (Subseller)."
   ]
  },
  {
   "cell_type": "markdown",
   "id": "f83078f1-1688-4fe8-b0db-86193c8b5655",
   "metadata": {},
   "source": [
    "(그림 설명도 추가하자) "
   ]
  },
  {
   "cell_type": "markdown",
   "id": "9972f52a-572b-4db0-9017-29e5285d5450",
   "metadata": {},
   "source": [
    "-------- "
   ]
  },
  {
   "cell_type": "markdown",
   "id": "6a2612f4-b9f0-4dbc-a8cd-0a10ce480ae8",
   "metadata": {},
   "source": [
    "The following example defines a model in a machine learning model package that has already been created."
   ]
  },
  {
   "cell_type": "markdown",
   "id": "41335963-e95f-4ee7-9a22-6763962cb00e",
   "metadata": {},
   "source": [
    "### ex1) LightGBM "
   ]
  },
  {
   "cell_type": "code",
   "execution_count": null,
   "id": "d4f54d77-27ea-4ac2-af16-b954020964be",
   "metadata": {},
   "outputs": [],
   "source": [
    "from lightgbm import LGBMClassifier\n",
    "\n",
    "# conditional_buyer: Object that determines acquisition based on data filtering conditions \n",
    "b1_lg = sai.ConditionalBuyer()\n",
    "\n",
    "def sampling1(df): # Create a conditional function\n",
    "    condition1 = (-0.3 <= df.D0_Change) & (df.D0_Change <= 0.3) # Remove exceptions that exceed upper and lower limits\n",
    "    condition2 = df.D0_trading_value >= 1000000000 # condition 1: Transaction amount of more than 1 billion won \n",
    "    condition3 = (-0.05 >= df.D0_Change) | (0.05 <= df.D0_Change) # condition 2: Today's stock price change rate is more than 5%\n",
    "    condition = condition1 & condition2 & condition3\n",
    "    return condition\n",
    "\n",
    "b1_lg.condition = sampling1  # Define the condition function directly (sampling1) and store it in the condition property \n",
    "\n",
    "\n",
    "# machinelearning_buyer: Object that determines acquisition by machine learning model\n",
    "b2_lg = sai.MachinelearningBuyer()\n",
    "\n",
    "# Save user-defined models to algorithm properties\n",
    "scale_pos_weight = round(72/28 , 2)\n",
    "params = {  'random_state' : 42,\n",
    "            'scale_pos_weight' : scale_pos_weight,\n",
    "            'learning_rate' : 0.1, \n",
    "            'num_iterations' : 1000,\n",
    "            'max_depth' : 4,\n",
    "            'n_jobs' : 30,\n",
    "            'boost_from_average' : False,\n",
    "            'objective' : 'binary' }\n",
    "\n",
    "b2_lg.algorithm =  LGBMClassifier( **params )\n",
    "\n",
    "\n",
    "# SubSeller: Object that determines selling all of the following days\n",
    "sell_all = sai.SubSeller() \n",
    "\n",
    "\n",
    "# Trader Object   \n",
    "t1 = sai.Trader()\n",
    "t1.name = 'saiLightGBM' # Trader's name\n",
    "t1.label = 'class&0.02' # Set the Trader dependent variable (do not set if it is regression analysis) \n",
    "t1.buyer = sai.Buyer([b1_lg, b2_lg]) # [ conditional buyer, machinelearning buyer ] \n",
    "t1.seller = sai.Seller(sell_all)\n",
    "\n",
    "lst_trader.append(t1)"
   ]
  },
  {
   "cell_type": "markdown",
   "id": "bbfca57e-d2cf-4116-abcd-96b9d3e25c93",
   "metadata": {},
   "source": [
    "### ex2) XGBoost "
   ]
  },
  {
   "cell_type": "code",
   "execution_count": null,
   "id": "e8d8019e-31bc-49f7-a4ff-162a085bf2e7",
   "metadata": {},
   "outputs": [],
   "source": [
    "from xgboost import XGBClassifier\n",
    "\n",
    "b1_xgb = sai.ConditionalBuyer() \n",
    "\n",
    "def sampling2(df): \n",
    "    condition1 = (-0.3 <= df.D0_Change) & (df.D0_Change <= 0.3) \n",
    "    condition2 = df.D0_trading_value >= 1000000000 \n",
    "    condition3 = (-0.05 >= df.D0_Change) | (0.05 <= df.D0_Change) \n",
    "    condition = condition1 & condition2 & condition3\n",
    "    return condition\n",
    "\n",
    "b1_xgb.condition = sampling2\n",
    "\n",
    "\n",
    "b2_xgb = sai.MachinelearningBuyer()  \n",
    "\n",
    "scale_pos_weight = round(72/28 , 2)\n",
    "b2_xgb.algorithm = XGBClassifier(random_state = 42,\n",
    "                   n_jobs=30,\n",
    "                   scale_pos_weight=scale_pos_weight,\n",
    "                   learning_rate=0.1,\n",
    "                   max_depth=4,\n",
    "                   n_estimators=1000,\n",
    "                   )  \n",
    "\n",
    "sell_all = sai.SubSeller()\n",
    "\n",
    "\n",
    "t2 = sai.Trader()\n",
    "t2.name = 'saiXGboost' \n",
    "t2.label = 'class&0.02' \n",
    "t2.buyer = sai.Buyer([b1_xgb, b2_xgb])\n",
    "t2.seller = sai.Seller(sell_all) \n",
    "\n",
    "lst_trader.append(t2) "
   ]
  },
  {
   "cell_type": "markdown",
   "id": "990fc66e-d78e-4645-b0ae-8bbb1871021f",
   "metadata": {},
   "source": [
    "### ex3) LogisticRegression "
   ]
  },
  {
   "cell_type": "code",
   "execution_count": null,
   "id": "3cc972de-4d89-48f1-b4ab-1baae497c369",
   "metadata": {},
   "outputs": [],
   "source": [
    "from sklearn.linear_model import LogisticRegression\n",
    "\n",
    "b1_lr = sai.ConditionalBuyer()\n",
    "\n",
    "def sampling3(df):  \n",
    "    condition1 = (-0.3 <= df.D0_Change) & (df.D0_Change <= 0.3) \n",
    "    condition2 = df.D0_trading_value >= 1000000000 \n",
    "    condition3 = (-0.05 >= df.D0_Change) | (0.05 <= df.D0_Change) \n",
    "    condition = condition1 & condition2 & condition3\n",
    "    return condition\n",
    "\n",
    "b1_lr.condition = sampling3\n",
    "\n",
    "\n",
    "b2_lr = sai.MachinelearningBuyer()  \n",
    "\n",
    "b2_lr.algorithm = LogisticRegression()\n",
    "\n",
    "\n",
    "sell_all = sai.SubSeller() \n",
    "\n",
    "\n",
    "t3 = sai.Trader()\n",
    "t3.name = 'saiLogisticRegression'  \n",
    "t3.label = 'class&0.02' \n",
    "t3.buyer = sai.Buyer([b1_lr, b2_lr]) \n",
    "t3.seller = sai.Seller(sell_all)\n",
    "\n",
    "lst_trader.append(t3) "
   ]
  },
  {
   "cell_type": "markdown",
   "id": "c7016f67-c9fe-4889-beb5-565e5f64a387",
   "metadata": {},
   "source": [
    "### ex4) Support Vector Machine"
   ]
  },
  {
   "cell_type": "code",
   "execution_count": null,
   "id": "91a03db2-b5d3-465b-b0f0-97eaec049f3a",
   "metadata": {},
   "outputs": [],
   "source": [
    "from sklearn.svm import SVC\n",
    "\n",
    "b1_sv = sai.ConditionalBuyer()\n",
    "\n",
    "def sampling4(df):  \n",
    "    condition1 = (-0.3 <= df.D0_Change) & (df.D0_Change <= 0.3) \n",
    "    condition2 = df.D0_trading_value >= 1000000000 \n",
    "    condition3 = (-0.05 >= df.D0_Change) | (0.05 <= df.D0_Change) \n",
    "    condition = condition1 & condition2 & condition3\n",
    "    return condition\n",
    "\n",
    "b1_sv.condition = sampling4 \n",
    "\n",
    "\n",
    "b2_sv = sai.MachinelearningBuyer()  \n",
    "\n",
    "b2_sv.algorithm = SVC() \n",
    "\n",
    "\n",
    "sell_all = sai.SubSeller() \n",
    "\n",
    "\n",
    "t4 = sai.Trader()\n",
    "t4.name = 'saiSupportVectorMachine'  \n",
    "t4.label = 'class&0.02' \n",
    "t4.buyer = sai.Buyer([b1_sv, b2_sv]) \n",
    "t4.seller = sai.Seller(sell_all)\n",
    "\n",
    "lst_trader.append(t4) "
   ]
  },
  {
   "cell_type": "markdown",
   "id": "e678b1b7-34e9-40fb-ab49-b8dec8f1d689",
   "metadata": {},
   "source": [
    "### ex5) Decision Tree"
   ]
  },
  {
   "cell_type": "code",
   "execution_count": null,
   "id": "c8f0a48d-2543-4d8c-bb60-2da82c42333a",
   "metadata": {},
   "outputs": [],
   "source": [
    "from sklearn.tree import DecisionTreeClassifier\n",
    "\n",
    "b1_dt = sai.ConditionalBuyer()\n",
    "\n",
    "def sampling5(df):  \n",
    "    condition1 = (-0.3 <= df.D0_Change) & (df.D0_Change <= 0.3) \n",
    "    condition2 = df.D0_trading_value >= 1000000000 \n",
    "    condition3 = (-0.05 >= df.D0_Change) | (0.05 <= df.D0_Change) \n",
    "    condition = condition1 & condition2 & condition3\n",
    "    return condition\n",
    "\n",
    "b1_dt.condition = sampling5 \n",
    "\n",
    "\n",
    "b2_dt = sai.MachinelearningBuyer()  \n",
    "\n",
    "b2_dt.algorithm = DecisionTreeClassifier() \n",
    "\n",
    "\n",
    "sell_all = sai.SubSeller() \n",
    "\n",
    "\n",
    "t5 = sai.Trader()\n",
    "t5.name = 'saiDecisionTree'  \n",
    "t5.label = 'class&0.02' \n",
    "t5.buyer = sai.Buyer([b1_dt, b2_dt]) \n",
    "t5.seller = sai.Seller(sell_all)\n",
    "\n",
    "lst_trader.append(t5) "
   ]
  },
  {
   "cell_type": "markdown",
   "id": "c231d22f-4a58-480e-a0c9-d39b0f907b7d",
   "metadata": {},
   "source": [
    "### ex6) RandomForest "
   ]
  },
  {
   "cell_type": "code",
   "execution_count": null,
   "id": "94a3fc92-0c71-4aa2-8956-03f47e2d7ecf",
   "metadata": {},
   "outputs": [],
   "source": [
    "from sklearn.ensemble import RandomForestClassifier\n",
    "\n",
    "b1_rf = sai.ConditionalBuyer()\n",
    "\n",
    "def sampling6(df):  \n",
    "    condition1 = (-0.3 <= df.D0_Change) & (df.D0_Change <= 0.3) \n",
    "    condition2 = df.D0_trading_value >= 1000000000 \n",
    "    condition3 = (-0.05 >= df.D0_Change) | (0.05 <= df.D0_Change) \n",
    "    condition = condition1 & condition2 & condition3\n",
    "    return condition\n",
    "\n",
    "b1_rf.condition = sampling6 \n",
    "\n",
    "\n",
    "b2_rf = sai.MachinelearningBuyer()  \n",
    "\n",
    "b2_rf.algorithm = RandomForestClassifier() \n",
    "\n",
    "\n",
    "sell_all = sai.SubSeller() \n",
    "\n",
    "\n",
    "t6 = sai.Trader()\n",
    "t6.name = 'saiDecisionTree'  \n",
    "t6.label = 'class&0.02' \n",
    "t6.buyer = sai.Buyer([b1_rf, b2_rf]) \n",
    "t6.seller = sai.Seller(sell_all)\n",
    "\n",
    "lst_trader.append(t6) "
   ]
  },
  {
   "cell_type": "markdown",
   "id": "2d2e62a4-cff7-4cf0-ad59-f1f90f16e96b",
   "metadata": {},
   "source": [
    "----------"
   ]
  },
  {
   "cell_type": "markdown",
   "id": "1b7e5967-09a0-4f2c-b0b9-d205a849e800",
   "metadata": {},
   "source": [
    "The following is a deep learning model, which is an example of defining an lstm model using keras. You need to add one more property called `data_transform` to the deep learning model."
   ]
  },
  {
   "cell_type": "markdown",
   "id": "2f652c6b-09d9-4bda-bc2e-95df32f28195",
   "metadata": {},
   "source": [
    "### ex7) LSTM \n",
    "⭐ if you are using a deep learning model, you must define a function that is defined as a **two-dimensional structure**, and when designing the model, **you must set input_shape to the size of the dataset.**"
   ]
  },
  {
   "cell_type": "code",
   "execution_count": null,
   "id": "e9404b06-db13-4909-a688-92c2b7ea553f",
   "metadata": {},
   "outputs": [],
   "source": [
    "from tensorflow import keras\n",
    "\n",
    "b1_ls = sai.ConditionalBuyer()\n",
    "\n",
    "def sampling7(df): \n",
    "    condition1 = (-0.3 <= df.D0_Change) & (df.D0_Change <= 0.3) \n",
    "    condition2 = df.D0_trading_value >= 1000000000 \n",
    "    condition3 = (-0.05 >= df.D0_Change) | (0.05 <= df.D0_Change) \n",
    "    condition = condition1 & condition2 & condition3\n",
    "    return condition\n",
    "\n",
    "b1_ls.condition = sampling7 \n",
    "\n",
    "\n",
    "b2_ls = sai.MachinelearningBuyer()\n",
    "\n",
    "# ⭐ User-defined functions (users who want deep learning modeling)\n",
    "def transform(data): # A function that converts into a two-dimensional structure / data: list (lst_time_series)\n",
    "    data_2d = []\n",
    "    n_col = int(len(data[0]) / 10) \n",
    "    for row in data:      \n",
    "        data_2d.append([])\n",
    "        for i in range(0, len(row), n_col):\n",
    "            data_2d[-1].append(row[i:i+n_col])\n",
    "    \n",
    "    return np.array(data_2d)\n",
    "    \n",
    "\n",
    "# Directly define a two-dimensional structure transformation function (transform) and store it in the data_transform property\n",
    "b2_ls.data_transform = transform \n",
    "\n",
    "model = keras.models.Sequential()\n",
    "model.add(keras.layers.InputLayer(input_shape=(10, 48)))\n",
    "model.add(keras.layers.LSTM(128, activation='relu', return_sequences=True))\n",
    "model.add(keras.layers.LSTM(64, activation='relu', return_sequences=True))\n",
    "model.add(keras.layers.Dropout(0.2))\n",
    "model.add(keras.layers.LSTM(64, activation='relu', return_sequences=True))\n",
    "model.add(keras.layers.LSTM(64, activation='relu', return_sequences=True))\n",
    "model.add(keras.layers.LSTM(64, activation='relu', return_sequences=True))\n",
    "model.add(keras.layers.LSTM(32, activation='relu', return_sequences=False))\n",
    "model.add(keras.layers.Dropout(0.2))\n",
    "model.add(keras.layers.Dense(1, activation='sigmoid'))\n",
    "    \n",
    "model.compile(optimizer=keras.optimizers.Adam(\n",
    "    learning_rate=keras.optimizers.schedules.ExponentialDecay(0.05,decay_steps=100000,decay_rate=0.96)), \n",
    "    loss=\"binary_crossentropy\",\n",
    "    metrics=['accuracy'])\n",
    "\n",
    "b2_ls.algorithm =  model\n",
    "\n",
    "\n",
    "sell_all = sai.SubSeller() \n",
    "\n",
    "\n",
    "t7 = sai.Trader()\n",
    "t7.name = 'saiLSTM' \n",
    "t7.label = 'class&0.02' \n",
    "t7.buyer = sai.Buyer([b1_ls, b2_ls]) \n",
    "t7.seller = sai.Seller(sell_all)\n",
    "\n",
    "lst_trader.append(t7)"
   ]
  },
  {
   "cell_type": "markdown",
   "id": "06d8f844-f07a-46d8-8067-d47378d88053",
   "metadata": {},
   "source": [
    "Define a trader and **append each trader on the last line to lst_trader**, the list containing the first trader you created."
   ]
  },
  {
   "cell_type": "markdown",
   "id": "480c8032-5b9a-48dc-8ff3-f92863cce14b",
   "metadata": {},
   "source": [
    "In this way, you can define traders and use `lst_trader` to learn models and trade stocks for multiple traders. The `tutorials/02.different_models.ipynb` file shows an example of it, so it would be good to refer to it."
   ]
  }
 ],
 "metadata": {
  "kernelspec": {
   "display_name": "Python 3 (ipykernel)",
   "language": "python",
   "name": "python3"
  },
  "language_info": {
   "codemirror_mode": {
    "name": "ipython",
    "version": 3
   },
   "file_extension": ".py",
   "mimetype": "text/x-python",
   "name": "python",
   "nbconvert_exporter": "python",
   "pygments_lexer": "ipython3",
   "version": "3.9.12"
  }
 },
 "nbformat": 4,
 "nbformat_minor": 5
}
