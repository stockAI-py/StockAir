{
 "cells": [
  {
   "cell_type": "code",
   "execution_count": 1,
   "id": "e314b6b0-a6e9-4545-9cd4-8a7f7b388dc0",
   "metadata": {},
   "outputs": [],
   "source": [
    "import os\n",
    "import sys\n",
    "sys.path.append(\"/project/stockAI/github/main/stockAI\")\n",
    "import pandas as pd\n",
    "import stockAI as sai"
   ]
  },
  {
   "cell_type": "code",
   "execution_count": 2,
   "id": "a6b0e958-2569-42ed-a31f-dc5e9c03390e",
   "metadata": {},
   "outputs": [],
   "source": [
    "##### 트레이더 하나 정의 -> 4개로 카피 -> 데이터셋 저장을 for문으로 ! "
   ]
  },
  {
   "cell_type": "markdown",
   "id": "d5133074-3e98-4397-90f3-41116d7547ee",
   "metadata": {},
   "source": [
    "# 1. Data Acquisition "
   ]
  },
  {
   "cell_type": "markdown",
   "id": "cff10215-a00e-4eda-8e65-0c70d6c1176e",
   "metadata": {},
   "source": [
    "한국의 KOSPI 데이터 중에서 100개의 종목으로만 진행 "
   ]
  },
  {
   "cell_type": "code",
   "execution_count": null,
   "id": "47eec089-514f-44c0-97ab-fe879062a3ca",
   "metadata": {},
   "outputs": [],
   "source": [
    "lst_tickers = sai.get_tickers(markets=['KOSPI'], date=2016)\n",
    "print(len(lst_tickers), lst_tickers[:5])"
   ]
  },
  {
   "cell_type": "code",
   "execution_count": null,
   "id": "f52fe50d-0630-4be0-aadd-a0de677bcb67",
   "metadata": {},
   "outputs": [],
   "source": [
    "raw_data = sai.load_data(date=['2016-01-01', '2021-12-31'], tickers=lst_tickers[:100])\n",
    "print(raw_data.shape)\n",
    "raw_data.head()"
   ]
  },
  {
   "cell_type": "markdown",
   "id": "7a208a59-5193-41b4-aed1-ec9a007e9740",
   "metadata": {},
   "source": [
    "# 2. Data Preprocessing "
   ]
  },
  {
   "cell_type": "code",
   "execution_count": null,
   "id": "ba568ec7-df52-4951-b3c7-a88cef0f3ba4",
   "metadata": {},
   "outputs": [],
   "source": [
    "check_index = ['MA5', 'MA20', 'MA60','MA120', \n",
    "             'trading_value','next_change',\n",
    "             'MFI','ADI','OBV','CMF','FI','EOM_EMV','VPT','NVI','VMAP',\n",
    "             'BHB','BLB','KCH','KCL','KCM','DCH','DCL','DCM','UI',\n",
    "             'SMA','EMA','WMA','MACD','VIneg','VIpos','TRIX','MI','CCI','DPO','KST','Ichimoku','ParabolicSAR','STC',\n",
    "             'RSI','SRSI','TSI','UO','SR','WR','AO','KAMA','ROC','PPO','PVO']\n",
    "\n",
    "check_df = sai.add_index(data=raw_data, index_list=check_index)\n",
    "check_df"
   ]
  },
  {
   "cell_type": "code",
   "execution_count": null,
   "id": "15495787-6e4d-496c-8bb0-73afe15ffcb5",
   "metadata": {},
   "outputs": [],
   "source": []
  },
  {
   "cell_type": "markdown",
   "id": "7978a95e-f208-4b09-a151-7000a33a1430",
   "metadata": {},
   "source": [
    "### 2) scaling "
   ]
  },
  {
   "cell_type": "code",
   "execution_count": null,
   "id": "299acb8b-e926-4064-af3f-86877d14c4ca",
   "metadata": {},
   "outputs": [],
   "source": [
    "scaled_minmax = sai.scaling(data=check_df, scaler_type=\"minmax\", window_size=None)\n",
    "scaled_minmax"
   ]
  },
  {
   "cell_type": "code",
   "execution_count": null,
   "id": "f3d45d67-2515-423b-b981-f8eb425a5ab7",
   "metadata": {},
   "outputs": [],
   "source": [
    "scaled_standard = sai.scaling(data=check_df, scaler_type=\"standard\", window_size=None)\n",
    "scaled_standard"
   ]
  },
  {
   "cell_type": "code",
   "execution_count": null,
   "id": "ad336d2a-fddc-425b-ad37-90317ca9c5ec",
   "metadata": {},
   "outputs": [],
   "source": [
    "scaled_robust = sai.scaling(data=check_df, scaler_type=\"robust\", window_size=None)\n",
    "scaled_robust"
   ]
  },
  {
   "cell_type": "code",
   "execution_count": null,
   "id": "d02ca6eb-89da-47ee-ae06-8e2b07729db4",
   "metadata": {},
   "outputs": [],
   "source": [
    "scaled_div_close = sai.scaling(data=check_df, scaler_type=\"div-close\", window_size=None)\n",
    "scaled_div_close"
   ]
  },
  {
   "cell_type": "markdown",
   "id": "78a88693-d7e9-4d00-be18-3bfe1e62166b",
   "metadata": {},
   "source": [
    "# 3. Trader Definition"
   ]
  },
  {
   "cell_type": "code",
   "execution_count": null,
   "id": "c6b8e9cb-61fe-412e-a125-e427502bc246",
   "metadata": {},
   "outputs": [],
   "source": [
    "lst_trader = []"
   ]
  },
  {
   "cell_type": "code",
   "execution_count": null,
   "id": "d91ab4c0-10e3-4235-abef-a81dedd404aa",
   "metadata": {},
   "outputs": [],
   "source": [
    "from lightgbm import LGBMClassifier\n",
    "\n",
    "# conditional_buyer: Object that determines acquisition based on data filtering conditions \n",
    "b1_pr = sai.conditional_buyer()\n",
    "\n",
    "def sampling3(df): # 조건 함수 생성 \n",
    "    condition1 = (-0.3 <= df.D0_Change) & (df.D0_Change <= 0.3) # Remove exceptions that exceed upper and lower limits\n",
    "    condition2 = df.D0_trading_value >= 1000000000 # condition 1: Transaction amount of more than 1 billion won \n",
    "    condition3 = (-0.05 >= df.D0_Change) | (0.05 <= df.D0_Change) # condition 2: Today's stock price change rate is more than 5%\n",
    "    condition = condition1 & condition2 & condition3\n",
    "    return condition\n",
    "\n",
    "b1_pr.condition = sampling3  # Define the condition function directly (sampling1) and store it in the condition property \n",
    "\n",
    "\n",
    "# machinelearning_buyer: Object that determines acquisition by machine learning model\n",
    "b2_pr = sai.machinelearning_buyer()\n",
    "\n",
    "# Save user-defined models to algorithm properties\n",
    "scale_pos_weight = round(72/28 , 2)\n",
    "params = {  'random_state' : 42,\n",
    "            'scale_pos_weight' : scale_pos_weight,\n",
    "            'learning_rate' : 0.1, \n",
    "            'num_iterations' : 1000,\n",
    "            'max_depth' : 4,\n",
    "            'n_jobs' : 30,\n",
    "            'boost_from_average' : False,\n",
    "            'objective' : 'binary' }\n",
    "\n",
    "b2_pr.algorithm =  LGBMClassifier( **params )\n",
    "\n",
    "\n",
    "# SubSeller: Object that determines selling all of the following days\n",
    "sell_all = sai.SubSeller() \n",
    "\n",
    "\n",
    "# Trader Object   \n",
    "trader = sai.Trader()\n",
    "trader.label = 'class&0.02' # Set the Trader dependent variable (do not set if it is regression analysis) \n",
    "trader.buyer = sai.Buyer([b1_pr, b2_pr]) # [ conditional buyer, machinelearning buyer ] \n",
    "trader.seller = sai.Seller(sell_all)"
   ]
  },
  {
   "cell_type": "markdown",
   "id": "20d922cc-bbc3-4159-87e6-ecbbae2cb822",
   "metadata": {},
   "source": [
    "# 4. Trader(Model) Fitting & Evauation"
   ]
  },
  {
   "cell_type": "markdown",
   "id": "3174b8e1-051f-43a2-85d0-f4880c9571bb",
   "metadata": {},
   "source": [
    "### 1) Save Dataset to Traders"
   ]
  },
  {
   "cell_type": "code",
   "execution_count": null,
   "id": "8b96019c-625a-43d5-8647-ba00579a40d9",
   "metadata": {},
   "outputs": [],
   "source": [
    "trader_name = [\"trader_minmax\", \"trader_standard\", \"trader_robust\", \"trader_div-close\"]\n",
    "for name in trader_name: \n",
    "    trader.name = name\n",
    "    lst_trader.append(trader)"
   ]
  },
  {
   "cell_type": "code",
   "execution_count": null,
   "id": "7e77a9c1-61c4-4146-bdf7-55b52f728e0a",
   "metadata": {},
   "outputs": [],
   "source": [
    "lst_trader = []\n",
    "lst_dataset_scaled = [[train_data_minmax, test_data_minmax], \n",
    "                      [train_data_standard, test_data_standard],\n",
    "                     [train_data_robust, test_data_robust],\n",
    "                     [train_data_div_close, test_data_div_close]]\n",
    "\n",
    "for i in range(4): \n",
    "    lst_trader_one = [lst_trader[i]]\n",
    "    sai.save_dataset(lst_trader_one, train_data, lst_dataset_scaled[i][0], lst_dataset_scaled[i][1])\n",
    "    lst_trader.append(trader)"
   ]
  },
  {
   "cell_type": "markdown",
   "id": "1eaa3043-34de-4ecd-8437-2d8cddc64b7a",
   "metadata": {},
   "source": [
    "### 2) Model fitting"
   ]
  },
  {
   "cell_type": "code",
   "execution_count": null,
   "id": "39c70624-26a3-422d-8288-3c75c5453b99",
   "metadata": {},
   "outputs": [],
   "source": [
    "sai.trader_train(lst_trader) "
   ]
  },
  {
   "cell_type": "code",
   "execution_count": null,
   "id": "86fd3224-0cb2-4916-8a49-1dee11e62038",
   "metadata": {},
   "outputs": [],
   "source": []
  },
  {
   "cell_type": "code",
   "execution_count": null,
   "id": "09e882ce-544c-4dcd-b58f-a8ae2a4dd1f2",
   "metadata": {},
   "outputs": [],
   "source": []
  },
  {
   "cell_type": "code",
   "execution_count": null,
   "id": "7b5cbb25-5ef1-4670-97bc-c3a939ebabb5",
   "metadata": {},
   "outputs": [],
   "source": []
  }
 ],
 "metadata": {
  "kernelspec": {
   "display_name": "Python 3 (ipykernel)",
   "language": "python",
   "name": "python3"
  },
  "language_info": {
   "codemirror_mode": {
    "name": "ipython",
    "version": 3
   },
   "file_extension": ".py",
   "mimetype": "text/x-python",
   "name": "python",
   "nbconvert_exporter": "python",
   "pygments_lexer": "ipython3",
   "version": "3.9.12"
  }
 },
 "nbformat": 4,
 "nbformat_minor": 5
}
