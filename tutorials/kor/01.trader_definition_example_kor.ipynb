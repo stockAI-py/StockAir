{
 "cells": [
  {
   "cell_type": "markdown",
   "id": "285594a3-d588-49a8-a694-6b5ed399ac57",
   "metadata": {},
   "source": [
    "# **To define a trader**"
   ]
  },
  {
   "cell_type": "markdown",
   "id": "38058f67-a5b1-425f-9d23-c99e525c720f",
   "metadata": {},
   "source": [
    "#### stockait는 핵심 개념인 `Trader`라는 객체가 있다.\n",
    "#### 하나의 트레이더 안에는 데이터셋과 인공지능 모델을 포함하고, 모델 학습을 수행한다.\n",
    "#### 또한 주식 거래 (매수/매도) 시뮬레이션도 트레이더를 통해 가능하다.  \n",
    "\n",
    "### 이 파일에서는 이러한 `Trader`에 대한 설명과 예시를 보여준다."
   ]
  },
  {
   "cell_type": "markdown",
   "id": "e1f991f8-7ce8-45ec-85bb-840bf222f3c0",
   "metadata": {},
   "source": [
    "<br>\n",
    "\n",
    "## **Trader의 기능**\n",
    "#### Trader는 크게 3가지 기능을 갖고 있다."
   ]
  },
  {
   "cell_type": "markdown",
   "id": "22c3acff-3986-4630-94bf-63973dff39e7",
   "metadata": {},
   "source": [
    "![img](../../image/trader_1.png)"
   ]
  },
  {
   "cell_type": "markdown",
   "id": "8ad73126-005e-4d42-85a6-c36b48c4d700",
   "metadata": {},
   "source": [
    "\n",
    "#### 트레이더 객체는 1) 매수/매도 정보, 인공지능 모델 정보를 저장하며, 2) 데이터셋을 저장하고, 추가적으로 3) 이름, 레이블 정보를 저장한다.\n",
    "#### 아래에서 이러한 3가지 기능을 하나씩 살펴보고, 객체를 직접 정의하는 예시에서 더 자세히 보도록 한다."
   ]
  },
  {
   "cell_type": "markdown",
   "id": "5e52a39d-379a-4302-8315-f454276381c6",
   "metadata": {},
   "source": [
    "<br>\n",
    "\n",
    "## **첫째, Trader object Definitions** \n",
    "#### Trader / Buyer / Seller 객체를 정의하는 것은 Trader의 핵심 기능이다."
   ]
  },
  {
   "cell_type": "markdown",
   "id": "99c27595-cce3-436c-b314-aefe080385c0",
   "metadata": {},
   "source": [
    "![img](../../image/trader_2.png)"
   ]
  },
  {
   "cell_type": "markdown",
   "id": "f1af14a6-2ae0-4041-91b0-cc0aff44ad59",
   "metadata": {},
   "source": [
    "### **1)`trader.buyer`** \n",
    "buyer의 두가지 형태의 객체를 리스트로 저장한다. ([conditional_buyer, machine learning_buyer]).\n",
    "\n",
    "#### **1.1)`conditional_buyer`** \n",
    "데이터셋의 필터링 조건으로 매수를 결정하는 객체. \n",
    "\n",
    "#### **1.2)`machinelearning_buyer`** \n",
    "머신러닝 모델의 예측확률을 통해 매수를 결정하는 객체.\n",
    "\n",
    "<br>\n",
    "\n",
    "### **2)`trader.seller`** \n",
    "seller의 객체를 저장한다.\n",
    "\n",
    "#### **2.1)`SubSeller`**\n",
    "매수한 모든 종목을 다음날에 모두 매도하는 객체."
   ]
  },
  {
   "cell_type": "markdown",
   "id": "e9b25662-936a-4b52-b78d-bb8b253a8dae",
   "metadata": {},
   "source": [
    "<br> \n",
    "\n",
    "## **둘째, Save datasets**"
   ]
  },
  {
   "cell_type": "markdown",
   "id": "ab6606f6-3128-435f-9c1b-ce3e75893750",
   "metadata": {},
   "source": [
    "#### 트레이더 객체 안에는 모델 학습/검증/시험 및 주식 매매를 위한 데이터셋이 저장된다."
   ]
  },
  {
   "cell_type": "markdown",
   "id": "be39a48b-db6e-41cc-900f-29b536a75df8",
   "metadata": {
    "tags": []
   },
   "source": [
    "![img](../../image/trader_3.png)"
   ]
  },
  {
   "cell_type": "markdown",
   "id": "0aa24c87-0e74-40e5-89a3-06d4676f4ef1",
   "metadata": {},
   "source": [
    "<br>\n",
    "\n",
    "## **셋째, Save Trader's Information**\n",
    "#### 트레이더를 구분하기 위한 `name` 속성과, 레이블 정보를 넣어주는 `label`속성을 저장하는 기능이다."
   ]
  },
  {
   "cell_type": "markdown",
   "id": "ae380d5e-b94d-4c04-9451-ecbadcf541da",
   "metadata": {},
   "source": [
    "![img](../../image/trader_4.png)"
   ]
  },
  {
   "cell_type": "markdown",
   "id": "9972f52a-572b-4db0-9017-29e5285d5450",
   "metadata": {},
   "source": [
    "-------- "
   ]
  },
  {
   "cell_type": "markdown",
   "id": "ef153cb5-dcd9-458e-bd9a-337a704571c9",
   "metadata": {},
   "source": [
    "\n",
    "<br>\n",
    "\n",
    "#### 아래에서는 Trader를 정의하는 과정을 자세히 들여다 보기 위해, LightGBM 모델을 사용하여 예시로 Trader를 정의한다.\n",
    "\n",
    "<br>\n",
    "\n",
    "#### 먼저, 트레이더들을 담을 빈 리스트를 하나 생성한다."
   ]
  },
  {
   "cell_type": "code",
   "execution_count": null,
   "id": "be259e64-f132-4d0c-84ac-cb624636097c",
   "metadata": {},
   "outputs": [],
   "source": [
    "lst_trader = [] "
   ]
  },
  {
   "cell_type": "markdown",
   "id": "6a2612f4-b9f0-4dbc-a8cd-0a10ce480ae8",
   "metadata": {},
   "source": [
    "\n",
    "<br>\n",
    "\n",
    "### **ConditionalBuyer 객체와 sampling 함수 정의** \n",
    "#### ConditionalBuyer에서 주가 데이터를 필터링 할 조건을 설정하는 함수 sampling을 직접 정의한다. 종가 변화율이 30% 이상이면 제외하며, 종가 변화율이 너무 낮은 -0.05 ~ 0.05 인 데이터는 제외하고, 거래대금이 10억 이상인 데이터셋만을 사용하도록 조건을 생성했다. "
   ]
  },
  {
   "cell_type": "code",
   "execution_count": null,
   "id": "4c8db05e-6187-4432-9cb9-82dd8131e616",
   "metadata": {},
   "outputs": [],
   "source": [
    "# conditional_buyer: Object that determines acquisition based on data filtering conditions \n",
    "b1_lg = sai.ConditionalBuyer()\n",
    "\n",
    "def sampling1(df): # Create a conditional function\n",
    "    condition1 = (-0.3 <= df.D0_Change) & (df.D0_Change <= 0.3) # Remove exceptions that exceed upper and lower limits\n",
    "    condition2 = df.D0_trading_value >= 1000000000 # condition 1: Transaction amount of more than 1 billion won \n",
    "    condition3 = (-0.05 >= df.D0_Change) | (0.05 <= df.D0_Change) # condition 2: Today's stock price change rate is more than 5%\n",
    "    condition = condition1 & condition2 & condition3\n",
    "    return condition\n",
    "\n",
    "b1_lg.condition = sampling1  # Define the condition function directly (sampling1) and store it in the condition property "
   ]
  },
  {
   "cell_type": "markdown",
   "id": "947a57f3-311b-4360-b922-8a93fd3b0d03",
   "metadata": {},
   "source": [
    "### **MachinelearnigBuyer 객체 정의** \n",
    "#### Machinelearning Buyer는 인공지능 모델 학습을 담당한다. 인공지능 모델과 관련된 정보들은 모두 Machinelearning Buyer 객체의 속성에 넣어줘야 한다. \n",
    "#### 모델을 정의하는 것은 여느 패키지의 사용법과 같고, 정의한 모델 객체를 machinelearning Buyer의 `algorithm` 속성에 넣어주면 된다."
   ]
  },
  {
   "cell_type": "code",
   "execution_count": null,
   "id": "f9d1b748-4921-4328-8659-3c2dcbd9bf5f",
   "metadata": {},
   "outputs": [],
   "source": [
    "from lightgbm import LGBMClassifier\n",
    "\n",
    "# machinelearning_buyer: Object that determines acquisition by machine learning model\n",
    "b2_lg = sai.MachinelearningBuyer()\n",
    "\n",
    "# Save user-defined models to algorithm properties\n",
    "scale_pos_weight = round(72/28 , 2)\n",
    "params = {  'random_state' : 42,\n",
    "            'scale_pos_weight' : scale_pos_weight,\n",
    "            'learning_rate' : 0.1, \n",
    "            'num_iterations' : 1000,\n",
    "            'max_depth' : 4,\n",
    "            'n_jobs' : 30,\n",
    "            'boost_from_average' : False,\n",
    "            'objective' : 'binary' }\n",
    "\n",
    "b2_lg.algorithm =  LGBMClassifier( **params )"
   ]
  },
  {
   "cell_type": "markdown",
   "id": "86540290-72c1-4c62-b481-53ca978fc2d5",
   "metadata": {},
   "source": [
    "#### 이로써 Buyer 의 서브 객체들인 Conditional Buyer와 Machinelearning Buyer를 정의하였다.\n",
    "### **SubSeller 객체 정의** \n",
    "#### SubSeller 객체는 매수한 주식을 매수 날짜 다음날에 모두 되파는 방법만을 제공하고있다. 이러한 SubSeller 객체를 하나 생성해준다. "
   ]
  },
  {
   "cell_type": "code",
   "execution_count": null,
   "id": "577f63d2-7b04-4421-8d81-0a10cf9bcf66",
   "metadata": {},
   "outputs": [],
   "source": [
    "# SubSeller: Object that determines selling all of the following days\n",
    "sell_all = sai.SubSeller() "
   ]
  },
  {
   "cell_type": "markdown",
   "id": "9f014e7a-534f-46c7-9c3e-c32732fcab2e",
   "metadata": {},
   "source": [
    "### **트레이더 / Buyer / Seller 객체 정의** \n",
    "#### 트레이더 객체에는 트레이더를 구분하기 위한 `name` 속성, 종속변수를 설정하는 `label` 속성, Buyer, Seller 객체를 저장하는 `buyer` 속성과 `seller` 속성이 있다. "
   ]
  },
  {
   "cell_type": "code",
   "execution_count": null,
   "id": "22213555-3b60-473a-9112-cbecb1b9c838",
   "metadata": {},
   "outputs": [],
   "source": [
    "# Trader Object   \n",
    "t1 = sai.Trader()\n",
    "t1.name = 'saiLightGBM' # Trader's name\n",
    "t1.label = 'class&0.02' # Set the Trader dependent variable (do not set if it is regression analysis) \n",
    "t1.buyer = sai.Buyer([b1_lg, b2_lg]) # [ conditional buyer, machinelearning buyer ] \n",
    "t1.seller = sai.Seller(sell_all)\n",
    "\n",
    "lst_trader.append(t1)"
   ]
  },
  {
   "cell_type": "markdown",
   "id": "6e97ad65-5d05-4946-8a7d-da410ae88ec4",
   "metadata": {},
   "source": [
    "#### 여기서 label을 보면, \"class&0.02\"라고 작성되어있는데, **classification** 문제이며, **다음날 종가 변화율**이 **0.02** 이상이면 **1**, 그렇지 않으면 **0**으로 이진분류한다는 뜻이다. 분류로 하고싶지 않으면 \"reg\"라고 설정하여, 다음날 종가 변화율 (next_change) 자체를 종속변수로 사용할 수 있다. \n",
    "#### buyer에는 Buyer 객체를 호출할 때 리스트 안에 위에서 정의했던 conditional buyer와 machinelearning buyer를 넣고, seller는 바로 SubSeller 객체를 넣어준다. \n",
    "#### 마지막으로, 처음에 만든 lst_trader에 트레이더를 추가한다. \n",
    "\n",
    "<br> \n",
    "\n",
    "#### 이로써 Trader 객체를 모두 정의하였다. **(딥러닝 모델을 정의하는 것은 추가적으로 요구되는 속성들이 있으므로, 아래의 모델 예시 (ex7, ex8)를 참고하거나, `02-1.tensorflow_example.ipynb`, `02-2.pytorch_example.ipynb` 파일에서 자세한 설명을 확인할 수 있다.**"
   ]
  },
  {
   "cell_type": "markdown",
   "id": "41335963-e95f-4ee7-9a22-6763962cb00e",
   "metadata": {},
   "source": [
    "<br>\n",
    "\n",
    "#### 아래에는 여러 머신러닝 모델을 정의한 예시를 보여준다.\n",
    "\n",
    "<br>\n",
    "\n",
    "### **ex1) LightGBM** "
   ]
  },
  {
   "cell_type": "code",
   "execution_count": null,
   "id": "d4f54d77-27ea-4ac2-af16-b954020964be",
   "metadata": {},
   "outputs": [],
   "source": [
    "from lightgbm import LGBMClassifier\n",
    "\n",
    "# conditional_buyer: Object that determines acquisition based on data filtering conditions \n",
    "b1_lg = sai.ConditionalBuyer()\n",
    "\n",
    "def sampling1(df): # Create a conditional function\n",
    "    condition1 = (-0.3 <= df.D0_Change) & (df.D0_Change <= 0.3) # Remove exceptions that exceed upper and lower limits\n",
    "    condition2 = df.D0_trading_value >= 1000000000 # condition 1: Transaction amount of more than 1 billion won \n",
    "    condition3 = (-0.05 >= df.D0_Change) | (0.05 <= df.D0_Change) # condition 2: Today's stock price change rate is more than 5%\n",
    "    condition = condition1 & condition2 & condition3\n",
    "    return condition\n",
    "\n",
    "b1_lg.condition = sampling1  # Define the condition function directly (sampling1) and store it in the condition property \n",
    "\n",
    "\n",
    "# machinelearning_buyer: Object that determines acquisition by machine learning model\n",
    "b2_lg = sai.MachinelearningBuyer()\n",
    "\n",
    "# Save user-defined models to algorithm properties\n",
    "scale_pos_weight = round(72/28 , 2)\n",
    "params = {  'random_state' : 42,\n",
    "            'scale_pos_weight' : scale_pos_weight,\n",
    "            'learning_rate' : 0.1, \n",
    "            'num_iterations' : 1000,\n",
    "            'max_depth' : 4,\n",
    "            'n_jobs' : 30,\n",
    "            'boost_from_average' : False,\n",
    "            'objective' : 'binary' }\n",
    "\n",
    "b2_lg.algorithm =  LGBMClassifier( **params )\n",
    "\n",
    "\n",
    "# SubSeller: Object that determines selling all of the following days\n",
    "sell_all = sai.SubSeller() \n",
    "\n",
    "\n",
    "# Trader Object   \n",
    "t1 = sai.Trader()\n",
    "t1.name = 'saiLightGBM' # Trader's name\n",
    "t1.label = 'class&0.02' # Set the Trader dependent variable (do not set if it is regression analysis) \n",
    "t1.buyer = sai.Buyer([b1_lg, b2_lg]) # [ conditional buyer, machinelearning buyer ] \n",
    "t1.seller = sai.Seller(sell_all)\n",
    "\n",
    "lst_trader.append(t1)"
   ]
  },
  {
   "cell_type": "markdown",
   "id": "bbfca57e-d2cf-4116-abcd-96b9d3e25c93",
   "metadata": {},
   "source": [
    "<br>\n",
    "\n",
    "### **ex2) XGBoost** "
   ]
  },
  {
   "cell_type": "code",
   "execution_count": null,
   "id": "e8d8019e-31bc-49f7-a4ff-162a085bf2e7",
   "metadata": {},
   "outputs": [],
   "source": [
    "from xgboost import XGBClassifier\n",
    "\n",
    "b1_xgb = sai.ConditionalBuyer() \n",
    "\n",
    "def sampling2(df): \n",
    "    condition1 = (-0.3 <= df.D0_Change) & (df.D0_Change <= 0.3) \n",
    "    condition2 = df.D0_trading_value >= 1000000000 \n",
    "    condition3 = (-0.05 >= df.D0_Change) | (0.05 <= df.D0_Change) \n",
    "    condition = condition1 & condition2 & condition3\n",
    "    return condition\n",
    "\n",
    "b1_xgb.condition = sampling2\n",
    "\n",
    "\n",
    "b2_xgb = sai.MachinelearningBuyer()  \n",
    "\n",
    "scale_pos_weight = round(72/28 , 2)\n",
    "b2_xgb.algorithm = XGBClassifier(random_state = 42,\n",
    "                   n_jobs=30,\n",
    "                   scale_pos_weight=scale_pos_weight,\n",
    "                   learning_rate=0.1,\n",
    "                   max_depth=4,\n",
    "                   n_estimators=1000,\n",
    "                   )  \n",
    "\n",
    "sell_all = sai.SubSeller()\n",
    "\n",
    "\n",
    "t2 = sai.Trader()\n",
    "t2.name = 'saiXGboost' \n",
    "t2.label = 'class&0.02' \n",
    "t2.buyer = sai.Buyer([b1_xgb, b2_xgb])\n",
    "t2.seller = sai.Seller(sell_all) \n",
    "\n",
    "lst_trader.append(t2) "
   ]
  },
  {
   "cell_type": "markdown",
   "id": "990fc66e-d78e-4645-b0ae-8bbb1871021f",
   "metadata": {},
   "source": [
    "<br>\n",
    "\n",
    "### **ex3) LogisticRegression** "
   ]
  },
  {
   "cell_type": "code",
   "execution_count": null,
   "id": "3cc972de-4d89-48f1-b4ab-1baae497c369",
   "metadata": {},
   "outputs": [],
   "source": [
    "from sklearn.linear_model import LogisticRegression\n",
    "\n",
    "b1_lr = sai.ConditionalBuyer()\n",
    "\n",
    "def sampling3(df):  \n",
    "    condition1 = (-0.3 <= df.D0_Change) & (df.D0_Change <= 0.3) \n",
    "    condition2 = df.D0_trading_value >= 1000000000 \n",
    "    condition3 = (-0.05 >= df.D0_Change) | (0.05 <= df.D0_Change) \n",
    "    condition = condition1 & condition2 & condition3\n",
    "    return condition\n",
    "\n",
    "b1_lr.condition = sampling3\n",
    "\n",
    "\n",
    "b2_lr = sai.MachinelearningBuyer()  \n",
    "\n",
    "b2_lr.algorithm = LogisticRegression()\n",
    "\n",
    "\n",
    "sell_all = sai.SubSeller() \n",
    "\n",
    "\n",
    "t3 = sai.Trader()\n",
    "t3.name = 'saiLogisticRegression'  \n",
    "t3.label = 'class&0.02' \n",
    "t3.buyer = sai.Buyer([b1_lr, b2_lr]) \n",
    "t3.seller = sai.Seller(sell_all)\n",
    "\n",
    "lst_trader.append(t3) "
   ]
  },
  {
   "cell_type": "markdown",
   "id": "c7016f67-c9fe-4889-beb5-565e5f64a387",
   "metadata": {},
   "source": [
    "<br> \n",
    "\n",
    "### **ex4) Support Vector Machine**"
   ]
  },
  {
   "cell_type": "code",
   "execution_count": null,
   "id": "91a03db2-b5d3-465b-b0f0-97eaec049f3a",
   "metadata": {},
   "outputs": [],
   "source": [
    "from sklearn.svm import SVC\n",
    "\n",
    "b1_sv = sai.ConditionalBuyer()\n",
    "\n",
    "def sampling4(df):  \n",
    "    condition1 = (-0.3 <= df.D0_Change) & (df.D0_Change <= 0.3) \n",
    "    condition2 = df.D0_trading_value >= 1000000000 \n",
    "    condition3 = (-0.05 >= df.D0_Change) | (0.05 <= df.D0_Change) \n",
    "    condition = condition1 & condition2 & condition3\n",
    "    return condition\n",
    "\n",
    "b1_sv.condition = sampling4 \n",
    "\n",
    "\n",
    "b2_sv = sai.MachinelearningBuyer()  \n",
    "\n",
    "b2_sv.algorithm = SVC() \n",
    "\n",
    "\n",
    "sell_all = sai.SubSeller() \n",
    "\n",
    "\n",
    "t4 = sai.Trader()\n",
    "t4.name = 'saiSupportVectorMachine'  \n",
    "t4.label = 'class&0.02' \n",
    "t4.buyer = sai.Buyer([b1_sv, b2_sv]) \n",
    "t4.seller = sai.Seller(sell_all)\n",
    "\n",
    "lst_trader.append(t4) "
   ]
  },
  {
   "cell_type": "markdown",
   "id": "e678b1b7-34e9-40fb-ab49-b8dec8f1d689",
   "metadata": {},
   "source": [
    "<br>\n",
    "\n",
    "### **ex5) Decision Tree**"
   ]
  },
  {
   "cell_type": "code",
   "execution_count": null,
   "id": "c8f0a48d-2543-4d8c-bb60-2da82c42333a",
   "metadata": {
    "tags": []
   },
   "outputs": [],
   "source": [
    "from sklearn.tree import DecisionTreeClassifier\n",
    "\n",
    "b1_dt = sai.ConditionalBuyer()\n",
    "\n",
    "def sampling5(df):  \n",
    "    condition1 = (-0.3 <= df.D0_Change) & (df.D0_Change <= 0.3) \n",
    "    condition2 = df.D0_trading_value >= 1000000000 \n",
    "    condition3 = (-0.05 >= df.D0_Change) | (0.05 <= df.D0_Change) \n",
    "    condition = condition1 & condition2 & condition3\n",
    "    return condition\n",
    "\n",
    "b1_dt.condition = sampling5 \n",
    "\n",
    "\n",
    "b2_dt = sai.MachinelearningBuyer()  \n",
    "\n",
    "b2_dt.algorithm = DecisionTreeClassifier() \n",
    "\n",
    "\n",
    "sell_all = sai.SubSeller() \n",
    "\n",
    "\n",
    "t5 = sai.Trader()\n",
    "t5.name = 'saiDecisionTree'  \n",
    "t5.label = 'class&0.02' \n",
    "t5.buyer = sai.Buyer([b1_dt, b2_dt]) \n",
    "t5.seller = sai.Seller(sell_all)\n",
    "\n",
    "lst_trader.append(t5) "
   ]
  },
  {
   "cell_type": "markdown",
   "id": "c231d22f-4a58-480e-a0c9-d39b0f907b7d",
   "metadata": {},
   "source": [
    "<br>\n",
    "\n",
    "### **ex6) RandomForest** "
   ]
  },
  {
   "cell_type": "code",
   "execution_count": null,
   "id": "94a3fc92-0c71-4aa2-8956-03f47e2d7ecf",
   "metadata": {},
   "outputs": [],
   "source": [
    "from sklearn.ensemble import RandomForestClassifier\n",
    "\n",
    "b1_rf = sai.ConditionalBuyer()\n",
    "\n",
    "def sampling6(df):  \n",
    "    condition1 = (-0.3 <= df.D0_Change) & (df.D0_Change <= 0.3) \n",
    "    condition2 = df.D0_trading_value >= 1000000000 \n",
    "    condition3 = (-0.05 >= df.D0_Change) | (0.05 <= df.D0_Change) \n",
    "    condition = condition1 & condition2 & condition3\n",
    "    return condition\n",
    "\n",
    "b1_rf.condition = sampling6 \n",
    "\n",
    "\n",
    "b2_rf = sai.MachinelearningBuyer()  \n",
    "\n",
    "b2_rf.algorithm = RandomForestClassifier() \n",
    "\n",
    "\n",
    "sell_all = sai.SubSeller() \n",
    "\n",
    "\n",
    "t6 = sai.Trader()\n",
    "t6.name = 'saiDecisionTree'  \n",
    "t6.label = 'class&0.02' \n",
    "t6.buyer = sai.Buyer([b1_rf, b2_rf]) \n",
    "t6.seller = sai.Seller(sell_all)\n",
    "\n",
    "lst_trader.append(t6) "
   ]
  },
  {
   "cell_type": "markdown",
   "id": "2d2e62a4-cff7-4cf0-ad59-f1f90f16e96b",
   "metadata": {},
   "source": [
    "----------"
   ]
  },
  {
   "cell_type": "markdown",
   "id": "1b7e5967-09a0-4f2c-b0b9-d205a849e800",
   "metadata": {},
   "source": [
    "\n",
    "<br>\n",
    "\n",
    "### **딥러닝 모델**\n",
    "\n",
    "#### 딥러닝 모델을 사용하기 위해서는 2차원이었던 데이터 구조를 3차원으로 변환해주어야 한다. 따라서 `data_transform` 속성이 추가된다. \n",
    "#### 어떤 프레임워크를 사용하느냐에 따라 `framework` 속성을 넣어줘야 한다.\n",
    "#### tensorflow의 경우에는 하이퍼 파라미터나 콜백함수를 `params`에 넣어주어야 하고, \n",
    "#### pytorch의 경우에는 `params` 속성과 더불어 gpu, cpu를 설정하는 `device`속성이나, 손실함수와 옵티마이저를 설정해주는 `optim` 속성도 추가적으로 요구된다.\n",
    "\n",
    "<br>\n",
    "\n",
    "#### **(이러한 딥러닝 모델에 대해서는 `02-1.tensorflow_example.ipynb`, `02-2.pytorch_example.ipynb` 파일에서 더 자세한 설명을 확인할 수 있다.)**"
   ]
  },
  {
   "cell_type": "markdown",
   "id": "2f652c6b-09d9-4bda-bc2e-95df32f28195",
   "metadata": {},
   "source": [
    "<br>\n",
    "\n",
    "### **ex7) LSTM - keras**  "
   ]
  },
  {
   "cell_type": "code",
   "execution_count": null,
   "id": "e9404b06-db13-4909-a688-92c2b7ea553f",
   "metadata": {},
   "outputs": [],
   "source": [
    "b1_ls = sai.ConditionalBuyer()\n",
    "\n",
    "def sampling1(df): \n",
    "    condition1 = (-0.3 <= df.D0_Change) & (df.D0_Change <= 0.3) \n",
    "    condition2 = (df.D0_Close * df.D0_Volume) >= 100000000 \n",
    "    condition3 = (-0.05 >= df.D0_Change) | (0.05 <= df.D0_Change) \n",
    "    condition = condition1 & condition2 & condition3 \n",
    "    return condition\n",
    "\n",
    "b1_ls.condition = sampling1\n",
    "\n",
    "b2_ls = sai.MachinelearningBuyer()\n",
    "\n",
    "# User-defined functions (users who want deep learning modeling)\n",
    "def transform1(data): # A function that converts into a two-dimensional structure / data: list (lst_time_series)\n",
    "    data_2d = []\n",
    "    n_col = int(len(data[0]) / 10) \n",
    "    for row in data:      \n",
    "        data_2d.append([])\n",
    "        for i in range(0, len(row), n_col):\n",
    "            data_2d[-1].append(row[i:i+n_col])\n",
    "    \n",
    "    return np.array(data_2d)\n",
    "    \n",
    "\n",
    "# Directly define a two-dimensional structure transformation function (transform) and store it in the data_transform property\n",
    "b2_ls.data_transform = transform1 \n",
    "\n",
    "from keras.callbacks import EarlyStopping\n",
    "\n",
    "# deep learning framework \n",
    "b2_ls.framework = \"tensorflow\"\n",
    "\n",
    "# parameters for model.fit() \n",
    "early_stopping = EarlyStopping(monitor='val_loss', patience=7)\n",
    "b2_ls.params = {\n",
    "    \"epochs\": 20, \n",
    "    \"batch_size\": 64,\n",
    "    \"callbacks\": [early_stopping]\n",
    "    }\n",
    "\n",
    "#model.add(keras.layers.Dropout(0.2))\n",
    "# defines a model \n",
    "model = keras.models.Sequential()\n",
    "model.add(keras.layers.InputLayer(input_shape=(10, 48)))\n",
    "model.add(keras.layers.LSTM(128, activation='selu', return_sequences=True))\n",
    "model.add(keras.layers.LSTM(64, activation='selu', return_sequences=True))\n",
    "model.add(keras.layers.LSTM(32, activation='selu', return_sequences=False))\n",
    "model.add(keras.layers.Dense(1, activation='sigmoid'))\n",
    "    \n",
    "model.compile(optimizer=keras.optimizers.Adam(\n",
    "    # learning_rate=keras.optimizers.schedules.ExponentialDecay(0.05,decay_steps=100000,decay_rate=0.96)), \n",
    "    learning_rate = 0.001), \n",
    "    loss=\"binary_crossentropy\",\n",
    "    metrics=['accuracy'])\n",
    "\n",
    "b2_ls.algorithm = model\n",
    "\n",
    "sell_all = sai.SubSeller() \n",
    "\n",
    "t7 = sai.Trader()\n",
    "t7.name = 'saiLSTM_tf' \n",
    "t7.label = 'class&0.02' \n",
    "t7.buyer = sai.Buyer([b1_ls, b2_ls]) \n",
    "t7.seller = sai.Seller(sell_all)\n",
    "\n",
    "lst_trader.append(t4)"
   ]
  },
  {
   "cell_type": "markdown",
   "id": "ef637f27-5fee-4cbb-a821-861e64b2188a",
   "metadata": {},
   "source": [
    "<br>\n",
    "\n",
    "### **ex8) LSTM - PyTorch**  "
   ]
  },
  {
   "cell_type": "code",
   "execution_count": null,
   "id": "7a2381b3-96a0-4c55-b6b9-91885a80189a",
   "metadata": {},
   "outputs": [],
   "source": [
    "import torch\n",
    "import torch.nn as nn\n",
    "import numpy as np\n",
    "\n",
    "b1_lspt = sai.ConditionalBuyer()\n",
    "\n",
    "def sampling5(df): \n",
    "    condition1 = (-0.3 <= df.D0_Change) & (df.D0_Change <= 0.3)\n",
    "    condition2 = (df.D0_Close * df.D0_Volume) >= 1000000000 \n",
    "    # condition3 = (-0.05 >= df.D0_Change) | (0.05 <= df.D0_Change) \n",
    "    condition4 = (df.D0_CCI <= -100)\n",
    "    condition = condition1 & condition2 & condition4  \n",
    "    return condition\n",
    "\n",
    "b1_lspt.condition = sampling5\n",
    "\n",
    "b2_lspt = sai.MachinelearningBuyer()\n",
    "\n",
    "# ⭐ User-defined functions (users who want deep learning modeling)\n",
    "def transform(data): # A function that converts into a two-dimensional structure / data: list (lst_time_series)\n",
    "    data_2d = []\n",
    "    n_col = int(len(data[0]) / 10) \n",
    "    for row in data:      \n",
    "        data_2d.append([])\n",
    "        for i in range(0, len(row), n_col):\n",
    "            data_2d[-1].append(row[i:i+n_col])\n",
    "    \n",
    "    return np.array(data_2d)\n",
    "    \n",
    "\n",
    "# Directly define a two-dimensional structure transformation function (transform) and store it in the data_transform property\n",
    "b2_lspt.data_transform = transform \n",
    "\n",
    "# framework \n",
    "b2_lspt.framework = \"pytorch\"\n",
    "\n",
    "# devcice  \n",
    "b2_lspt.device = device \n",
    "\n",
    "##### LSTM Model Definition #####\n",
    "class LSTM(nn.Module):\n",
    "    def __init__(self, input_size, hidden_size, num_layers, output_size):\n",
    "        super(LSTM, self).__init__()\n",
    "        \n",
    "        self.hidden_size = hidden_size\n",
    "        self.num_layers = num_layers\n",
    "        \n",
    "        self.lstm = nn.LSTM(input_size, hidden_size, num_layers, batch_first=True, dropout=0.3)\n",
    "        self.fc = nn.Linear(hidden_size, output_size)\n",
    "        \n",
    "    def forward(self, x):\n",
    "        # hidden state와 cell state의 값을 0으로 초기화 함 \n",
    "        h0 = torch.zeros(self.num_layers, x.size(0), self.hidden_size).to(x.device) # hidden state \n",
    "        c0 = torch.zeros(self.num_layers, x.size(0), self.hidden_size).to(x.device) # cell state \n",
    "        \n",
    "        out, _ = self.lstm(x, (h0, c0))\n",
    "        \n",
    "        out = self.fc(out[:, -1, :])\n",
    "        # out = torch.sigmoid(out) \n",
    "                      \n",
    "        return out\n",
    "    \n",
    "                      \n",
    "# learning rate \n",
    "learning_rate = 0.01\n",
    "\n",
    "# create a model \n",
    "input_size, hidden_size, num_layers, output_size = 48, 64, 12, 1 \n",
    "model = LSTM(input_size, hidden_size, num_layers, output_size)   \n",
    "\n",
    "b2_lspt.algorithm = model\n",
    "\n",
    "# hyper parameters for model fitting \n",
    "b2_lspt.params = {\n",
    "    \"epochs\": 20, \n",
    "    \"batch_size\": 64,\n",
    "    }\n",
    "\n",
    "\n",
    "pos_weight = torch.tensor([7.0], device=device)\n",
    "\n",
    "# loss function & optimizer \n",
    "b2_lspt.optim = {\n",
    "    \"criterion\": nn.BCEWithLogitsLoss(pos_weight=pos_weight), \n",
    "    \"optimizer\": torch.optim.Adam(model.parameters(), lr=learning_rate)  \n",
    "    }\n",
    "\n",
    "\n",
    "sell_all = sai.SubSeller() \n",
    "\n",
    "\n",
    "t8 = sai.Trader()\n",
    "t8.name = 'saiLSTM_pt' \n",
    "t8.label = 'class&0.02' \n",
    "t8.buyer = sai.Buyer([b1_lspt, b2_lspt]) \n",
    "t8.seller = sai.Seller(sell_all)\n",
    "\n",
    "lst_trader.append(t8)"
   ]
  },
  {
   "cell_type": "markdown",
   "id": "a5ca6b9c-f079-4a00-9722-d60bc02ddc83",
   "metadata": {},
   "source": [
    "<br>\n",
    "\n",
    "#### 이렇게 8가지의 트레이더들을 lst_trader에 넣으면, 각각의 모델을 한 번에 학습할 수 있고, 주식 매매 시뮬레이션을 진행할 수 있다.  \n",
    "#### 여러 모델을 사용하여 모델 학습 및 주식 매매 시뮬레이션을 수행하는 예시는 `tutorials/03.different_models.ipynb` 파일에서 확인할 수 있다."
   ]
  }
 ],
 "metadata": {
  "kernelspec": {
   "display_name": "Python 3 (ipykernel)",
   "language": "python",
   "name": "python3"
  },
  "language_info": {
   "codemirror_mode": {
    "name": "ipython",
    "version": 3
   },
   "file_extension": ".py",
   "mimetype": "text/x-python",
   "name": "python",
   "nbconvert_exporter": "python",
   "pygments_lexer": "ipython3",
   "version": "3.9.12"
  }
 },
 "nbformat": 4,
 "nbformat_minor": 5
}
