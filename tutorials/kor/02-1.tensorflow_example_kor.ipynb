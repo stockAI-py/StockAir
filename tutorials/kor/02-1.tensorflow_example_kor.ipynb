{
 "cells": [
  {
   "cell_type": "markdown",
   "id": "2fbde530-e075-4057-aab3-410bab4a4104",
   "metadata": {},
   "source": [
    "# **Tensorflow Example**"
   ]
  },
  {
   "cell_type": "markdown",
   "id": "6d35e8db-e06a-40e7-b4ff-f85d3a1c4cd6",
   "metadata": {},
   "source": [
    "#### 이 파일은 \"stockait\" 라이브러리를 사용하여 주가 데이터에 대한 딥러닝 모델링 예시를 보여준다. 그 중에서도 **tensorflow/keras** 프레임워크를 사용하는 튜토리얼이다. \n",
    "\n",
    "<br> \n"
   ]
  },
  {
   "cell_type": "code",
   "execution_count": 1,
   "id": "e8801067-d48c-4252-8ec2-45d1065dbd01",
   "metadata": {},
   "outputs": [
    {
     "name": "stderr",
     "output_type": "stream",
     "text": [
      "2023-09-06 11:12:12.619325: I tensorflow/core/platform/cpu_feature_guard.cc:193] This TensorFlow binary is optimized with oneAPI Deep Neural Network Library (oneDNN) to use the following CPU instructions in performance-critical operations:  AVX2 FMA\n",
      "To enable them in other operations, rebuild TensorFlow with the appropriate compiler flags.\n",
      "2023-09-06 11:12:13.044076: E tensorflow/stream_executor/cuda/cuda_blas.cc:2981] Unable to register cuBLAS factory: Attempting to register factory for plugin cuBLAS when one has already been registered\n",
      "2023-09-06 11:12:14.347751: W tensorflow/stream_executor/platform/default/dso_loader.cc:64] Could not load dynamic library 'libnvinfer.so.7'; dlerror: libnvinfer.so.7: cannot open shared object file: No such file or directory; LD_LIBRARY_PATH: /usr/local/cuda-11.6/lib64::/usr/local/cuda-11.5/lib64:/usr/local/cuda-11.5/targets/x86_64-linux/lib\n",
      "2023-09-06 11:12:14.347881: W tensorflow/stream_executor/platform/default/dso_loader.cc:64] Could not load dynamic library 'libnvinfer_plugin.so.7'; dlerror: libnvinfer_plugin.so.7: cannot open shared object file: No such file or directory; LD_LIBRARY_PATH: /usr/local/cuda-11.6/lib64::/usr/local/cuda-11.5/lib64:/usr/local/cuda-11.5/targets/x86_64-linux/lib\n",
      "2023-09-06 11:12:14.347891: W tensorflow/compiler/tf2tensorrt/utils/py_utils.cc:38] TF-TRT Warning: Cannot dlopen some TensorRT libraries. If you would like to use Nvidia GPU with TensorRT, please make sure the missing libraries mentioned above are installed properly.\n"
     ]
    }
   ],
   "source": [
    "import sys\n",
    "sys.path.append(\"/project/stockAI/github/main/stockait\")\n",
    "import stockait as sai\n",
    "import pandas as pd\n",
    "from tensorflow import keras\n",
    "import numpy as np"
   ]
  },
  {
   "cell_type": "markdown",
   "id": "6bc02c68-f3ae-4753-b5ef-6d58d0412f03",
   "metadata": {},
   "source": [
    "--------"
   ]
  },
  {
   "cell_type": "markdown",
   "id": "2a8b3e9a-12f4-415a-a02b-9d3698240533",
   "metadata": {},
   "source": [
    "<br> \n",
    "<br> \n",
    "\n",
    "# **1. Load Data**"
   ]
  },
  {
   "cell_type": "markdown",
   "id": "367338a9-9504-4e75-bf94-cd48527b09bc",
   "metadata": {},
   "source": [
    "#### 데이터 로드 및 전처리 과정은 생략하고, `00.demo.ipynb` 파일 에서 저장한 데이터로 연구를 진행한다.  \n",
    "#### 데이터는 다음의 두 가지가 존재한다. \n",
    "- time_series_0903.parquet \n",
    "- time_series_0903_scaled.parquet (스케일링 적용 데이터 / div-close 방법) \n",
    "\n",
    "#### 스케일링을 제외하고는 모두 같은 방법으로 전처리가 적용되어있다. "
   ]
  },
  {
   "cell_type": "code",
   "execution_count": 2,
   "id": "dd497141-410e-468b-994f-2751c8bafdc9",
   "metadata": {},
   "outputs": [],
   "source": [
    "df_time_series = pd.read_parquet(\"time_series_0903.parquet\") \n",
    "df_time_series_scaled = pd.read_parquet(\"time_series_0903_scaled.parquet\")\n",
    "\n",
    "df_time_series['Code'] = df_time_series['Code'].astype(str).str.zfill(6)\n",
    "df_time_series_scaled['Code'] = df_time_series_scaled['Code'].astype(str).str.zfill(6)"
   ]
  },
  {
   "cell_type": "code",
   "execution_count": 4,
   "id": "c4d98f0e-8777-42a6-bd57-4f0cf425a9c7",
   "metadata": {},
   "outputs": [
    {
     "name": "stdout",
     "output_type": "stream",
     "text": [
      "(1045449, 483)\n"
     ]
    },
    {
     "data": {
      "text/html": [
       "<div>\n",
       "<style scoped>\n",
       "    .dataframe tbody tr th:only-of-type {\n",
       "        vertical-align: middle;\n",
       "    }\n",
       "\n",
       "    .dataframe tbody tr th {\n",
       "        vertical-align: top;\n",
       "    }\n",
       "\n",
       "    .dataframe thead th {\n",
       "        text-align: right;\n",
       "    }\n",
       "</style>\n",
       "<table border=\"1\" class=\"dataframe\">\n",
       "  <thead>\n",
       "    <tr style=\"text-align: right;\">\n",
       "      <th></th>\n",
       "      <th>Code</th>\n",
       "      <th>Date</th>\n",
       "      <th>D-9_Open</th>\n",
       "      <th>D-9_High</th>\n",
       "      <th>D-9_Low</th>\n",
       "      <th>D-9_Close</th>\n",
       "      <th>D-9_Volume</th>\n",
       "      <th>D-9_Change</th>\n",
       "      <th>D-9_MA5</th>\n",
       "      <th>D-9_MA20</th>\n",
       "      <th>...</th>\n",
       "      <th>D0_TSI</th>\n",
       "      <th>D0_UO</th>\n",
       "      <th>D0_SR</th>\n",
       "      <th>D0_WR</th>\n",
       "      <th>D0_AO</th>\n",
       "      <th>D0_KAMA</th>\n",
       "      <th>D0_ROC</th>\n",
       "      <th>D0_PPO</th>\n",
       "      <th>D0_PVO</th>\n",
       "      <th>next_change</th>\n",
       "    </tr>\n",
       "    <tr>\n",
       "      <th>index</th>\n",
       "      <th></th>\n",
       "      <th></th>\n",
       "      <th></th>\n",
       "      <th></th>\n",
       "      <th></th>\n",
       "      <th></th>\n",
       "      <th></th>\n",
       "      <th></th>\n",
       "      <th></th>\n",
       "      <th></th>\n",
       "      <th></th>\n",
       "      <th></th>\n",
       "      <th></th>\n",
       "      <th></th>\n",
       "      <th></th>\n",
       "      <th></th>\n",
       "      <th></th>\n",
       "      <th></th>\n",
       "      <th></th>\n",
       "      <th></th>\n",
       "      <th></th>\n",
       "    </tr>\n",
       "  </thead>\n",
       "  <tbody>\n",
       "    <tr>\n",
       "      <th>0</th>\n",
       "      <td>000020</td>\n",
       "      <td>2017-01-02</td>\n",
       "      <td>8000</td>\n",
       "      <td>8020</td>\n",
       "      <td>7880</td>\n",
       "      <td>7980</td>\n",
       "      <td>29259</td>\n",
       "      <td>-0.002500</td>\n",
       "      <td>7928.0</td>\n",
       "      <td>7773.0</td>\n",
       "      <td>...</td>\n",
       "      <td>8.733155</td>\n",
       "      <td>63.290816</td>\n",
       "      <td>86.956522</td>\n",
       "      <td>-13.043478</td>\n",
       "      <td>142.823529</td>\n",
       "      <td>7862.703851</td>\n",
       "      <td>2.658228</td>\n",
       "      <td>0.653934</td>\n",
       "      <td>-1.629817</td>\n",
       "      <td>0.000000</td>\n",
       "    </tr>\n",
       "    <tr>\n",
       "      <th>1</th>\n",
       "      <td>000020</td>\n",
       "      <td>2017-01-03</td>\n",
       "      <td>7980</td>\n",
       "      <td>8000</td>\n",
       "      <td>7830</td>\n",
       "      <td>7920</td>\n",
       "      <td>25678</td>\n",
       "      <td>-0.007519</td>\n",
       "      <td>7948.0</td>\n",
       "      <td>7770.0</td>\n",
       "      <td>...</td>\n",
       "      <td>10.392942</td>\n",
       "      <td>64.061001</td>\n",
       "      <td>86.363636</td>\n",
       "      <td>-13.636364</td>\n",
       "      <td>183.794118</td>\n",
       "      <td>7872.320017</td>\n",
       "      <td>2.141058</td>\n",
       "      <td>0.753873</td>\n",
       "      <td>-5.174549</td>\n",
       "      <td>0.004932</td>\n",
       "    </tr>\n",
       "    <tr>\n",
       "      <th>2</th>\n",
       "      <td>000020</td>\n",
       "      <td>2017-01-04</td>\n",
       "      <td>7880</td>\n",
       "      <td>7960</td>\n",
       "      <td>7830</td>\n",
       "      <td>7900</td>\n",
       "      <td>34333</td>\n",
       "      <td>-0.002525</td>\n",
       "      <td>7948.0</td>\n",
       "      <td>7768.5</td>\n",
       "      <td>...</td>\n",
       "      <td>12.273619</td>\n",
       "      <td>67.101325</td>\n",
       "      <td>91.111111</td>\n",
       "      <td>-8.888889</td>\n",
       "      <td>219.529412</td>\n",
       "      <td>7898.574543</td>\n",
       "      <td>1.875000</td>\n",
       "      <td>0.862988</td>\n",
       "      <td>-1.907365</td>\n",
       "      <td>0.007362</td>\n",
       "    </tr>\n",
       "    <tr>\n",
       "      <th>3</th>\n",
       "      <td>000020</td>\n",
       "      <td>2017-01-05</td>\n",
       "      <td>7900</td>\n",
       "      <td>7910</td>\n",
       "      <td>7740</td>\n",
       "      <td>7800</td>\n",
       "      <td>49362</td>\n",
       "      <td>-0.012658</td>\n",
       "      <td>7920.0</td>\n",
       "      <td>7766.5</td>\n",
       "      <td>...</td>\n",
       "      <td>14.587203</td>\n",
       "      <td>64.966439</td>\n",
       "      <td>92.156863</td>\n",
       "      <td>-7.843137</td>\n",
       "      <td>255.705882</td>\n",
       "      <td>7941.330237</td>\n",
       "      <td>2.882206</td>\n",
       "      <td>0.997655</td>\n",
       "      <td>-2.485440</td>\n",
       "      <td>-0.006090</td>\n",
       "    </tr>\n",
       "    <tr>\n",
       "      <th>4</th>\n",
       "      <td>000020</td>\n",
       "      <td>2017-01-06</td>\n",
       "      <td>7800</td>\n",
       "      <td>7940</td>\n",
       "      <td>7760</td>\n",
       "      <td>7830</td>\n",
       "      <td>31948</td>\n",
       "      <td>0.003846</td>\n",
       "      <td>7886.0</td>\n",
       "      <td>7759.0</td>\n",
       "      <td>...</td>\n",
       "      <td>15.671728</td>\n",
       "      <td>60.791157</td>\n",
       "      <td>75.000000</td>\n",
       "      <td>-25.000000</td>\n",
       "      <td>285.500000</td>\n",
       "      <td>7985.928857</td>\n",
       "      <td>3.030303</td>\n",
       "      <td>1.041458</td>\n",
       "      <td>-3.459170</td>\n",
       "      <td>-0.009804</td>\n",
       "    </tr>\n",
       "  </tbody>\n",
       "</table>\n",
       "<p>5 rows × 483 columns</p>\n",
       "</div>"
      ],
      "text/plain": [
       "         Code        Date  D-9_Open  D-9_High  D-9_Low  D-9_Close  D-9_Volume  \\\n",
       "index                                                                           \n",
       "0      000020  2017-01-02      8000      8020     7880       7980       29259   \n",
       "1      000020  2017-01-03      7980      8000     7830       7920       25678   \n",
       "2      000020  2017-01-04      7880      7960     7830       7900       34333   \n",
       "3      000020  2017-01-05      7900      7910     7740       7800       49362   \n",
       "4      000020  2017-01-06      7800      7940     7760       7830       31948   \n",
       "\n",
       "       D-9_Change  D-9_MA5  D-9_MA20  ...     D0_TSI      D0_UO      D0_SR  \\\n",
       "index                                 ...                                    \n",
       "0       -0.002500   7928.0    7773.0  ...   8.733155  63.290816  86.956522   \n",
       "1       -0.007519   7948.0    7770.0  ...  10.392942  64.061001  86.363636   \n",
       "2       -0.002525   7948.0    7768.5  ...  12.273619  67.101325  91.111111   \n",
       "3       -0.012658   7920.0    7766.5  ...  14.587203  64.966439  92.156863   \n",
       "4        0.003846   7886.0    7759.0  ...  15.671728  60.791157  75.000000   \n",
       "\n",
       "           D0_WR       D0_AO      D0_KAMA    D0_ROC    D0_PPO    D0_PVO  \\\n",
       "index                                                                     \n",
       "0     -13.043478  142.823529  7862.703851  2.658228  0.653934 -1.629817   \n",
       "1     -13.636364  183.794118  7872.320017  2.141058  0.753873 -5.174549   \n",
       "2      -8.888889  219.529412  7898.574543  1.875000  0.862988 -1.907365   \n",
       "3      -7.843137  255.705882  7941.330237  2.882206  0.997655 -2.485440   \n",
       "4     -25.000000  285.500000  7985.928857  3.030303  1.041458 -3.459170   \n",
       "\n",
       "       next_change  \n",
       "index               \n",
       "0         0.000000  \n",
       "1         0.004932  \n",
       "2         0.007362  \n",
       "3        -0.006090  \n",
       "4        -0.009804  \n",
       "\n",
       "[5 rows x 483 columns]"
      ]
     },
     "execution_count": 4,
     "metadata": {},
     "output_type": "execute_result"
    }
   ],
   "source": [
    "print(df_time_series.shape) \n",
    "df_time_series.head()"
   ]
  },
  {
   "cell_type": "markdown",
   "id": "edd746ae-561f-4440-8a05-9f0a9b171268",
   "metadata": {},
   "source": [
    "#### 날짜는 2017년 1월 1일 부터 2021년 12월 31일까지이며, 총 42개의 보조지표를 추가한 데이터이다. 또한 하나의 행에는 10일치의 주가 데이터, 보조지표 컬럼이 존재한다. Code, Date, next_change(종속변수)를 제외하고, 총 480개의 독립변수를 가지는 것을 볼 수 있다.   "
   ]
  },
  {
   "cell_type": "markdown",
   "id": "ad33dca7-5146-4374-a7f9-ac7bd0c594f8",
   "metadata": {},
   "source": [
    "### **train / validation / test 데이터셋 분리** "
   ]
  },
  {
   "cell_type": "code",
   "execution_count": 4,
   "id": "eec3a8f1-e1eb-4ccf-9bae-619e1da24337",
   "metadata": {},
   "outputs": [
    {
     "name": "stdout",
     "output_type": "stream",
     "text": [
      "(828290, 483) (107068, 483) (110091, 483)\n",
      "(828290, 483) (107068, 483) (110091, 483)\n"
     ]
    }
   ],
   "source": [
    "data = df_time_series # Data Before Scaling\n",
    "data_scaled = df_time_series_scaled # Data After Scaling\n",
    "\n",
    "# train, validation, test dataset split\n",
    "train_data = data[(data['Date'] >= '2017-01-01') & (data['Date'] <= '2020-12-31')]\n",
    "valid_data = data[(data['Date'] >= '2021-01-01') & (data['Date'] <= '2021-06-31')] \n",
    "test_data = data[(data['Date'] >= '2021-07-01') & (data['Date'] <= '2021-12-31')]\n",
    "\n",
    "# train, validation, test dataset split (scaled) \n",
    "train_data_scaled = data_scaled[(data_scaled['Date'] >= '2017-01-01') & (data_scaled['Date'] <= '2020-12-31')]\n",
    "valid_data_scaled = data_scaled[(data_scaled['Date'] >= '2021-01-01') & (data_scaled['Date'] <= '2021-06-31')] \n",
    "test_data_scaled = data_scaled[(data_scaled['Date'] >= '2021-07-01') & (data_scaled['Date'] <= '2021-12-31')]\n",
    "\n",
    "print(train_data.shape, valid_data.shape, test_data.shape)\n",
    "print(train_data_scaled.shape, valid_data_scaled.shape, test_data_scaled.shape)"
   ]
  },
  {
   "cell_type": "markdown",
   "id": "66c83ece-0b5c-4af6-8db5-dfa6a968ae7a",
   "metadata": {},
   "source": [
    "#### 2017년 부터 2020년을 학습 데이터셋으로, 2021년 6월까지 검증 데이터셋, 2021년 12월까지 시험 데이터셋으로 설정하여 분할했다. "
   ]
  },
  {
   "cell_type": "markdown",
   "id": "a9a0da36-b121-416e-b3b3-c7035209d389",
   "metadata": {},
   "source": [
    "<br> \n",
    "<br> \n",
    "\n",
    "# **2. Trader Definition**\n",
    "#### keras 프레임워크를 사용하여 딥러닝 모델을 포함하는 트레이더를 정의한다. 이 tutorial에서는 LSTM과 Transformer 모델을 사용하여 주가 빅데이터 연구를 진행한다. "
   ]
  },
  {
   "cell_type": "markdown",
   "id": "9f111186-e693-4b2b-9b8a-91583ffa74db",
   "metadata": {},
   "source": [
    "### * **GPU 설정** "
   ]
  },
  {
   "cell_type": "code",
   "execution_count": 4,
   "id": "28a60ac3-1d9d-423e-8ee5-eda6e0564fa5",
   "metadata": {},
   "outputs": [
    {
     "name": "stderr",
     "output_type": "stream",
     "text": [
      "2023-09-04 10:23:03.157909: I tensorflow/stream_executor/cuda/cuda_gpu_executor.cc:980] successful NUMA node read from SysFS had negative value (-1), but there must be at least one NUMA node, so returning NUMA node zero\n",
      "2023-09-04 10:23:03.215748: I tensorflow/stream_executor/cuda/cuda_gpu_executor.cc:980] successful NUMA node read from SysFS had negative value (-1), but there must be at least one NUMA node, so returning NUMA node zero\n",
      "2023-09-04 10:23:03.217186: I tensorflow/stream_executor/cuda/cuda_gpu_executor.cc:980] successful NUMA node read from SysFS had negative value (-1), but there must be at least one NUMA node, so returning NUMA node zero\n"
     ]
    }
   ],
   "source": [
    "import os\n",
    "import tensorflow as tf\n",
    "\n",
    "os.environ[\"CUDA_VISIBLE_DEVICES\"]=\"0\"\n",
    "gpus = tf.config.experimental.list_physical_devices('GPU')\n",
    "if gpus:\n",
    "    try:\n",
    "        tf.config.experimental.set_memory_growth(gpus[0], True)\n",
    "    except RuntimeError as e:\n",
    "        print(e)"
   ]
  },
  {
   "cell_type": "markdown",
   "id": "e52c3351-760d-40b0-ac3b-63c285c2ab8e",
   "metadata": {},
   "source": [
    "#### 이전 tutorial에서 수행했던 것 처럼 빈 리스트 lst_trader를 하나 생성하고, 생성된 lst_trader 안에 우리가 정의 할 트레이더 객체들을 넣어준다."
   ]
  },
  {
   "cell_type": "code",
   "execution_count": 5,
   "id": "fa2bbd08-a3b9-4c47-b39f-0c47cb4fd253",
   "metadata": {},
   "outputs": [],
   "source": [
    "lst_trader = [] "
   ]
  },
  {
   "cell_type": "markdown",
   "id": "4b16425f-e2d5-46c0-817b-58750d1cae3c",
   "metadata": {},
   "source": [
    "<br> \n",
    "\n",
    "## **1) LSTM**\n",
    "#### 간편하게 하나의 셀에 트레이더를 간편하게 정의해줄 수 있는 것이 \"stockAIT\"의 장점 중 하나이다. 하지만 이번 tutorial에서는 더 쉬운 이해를 위해 6개의 셀로 나누어 진행하겠다."
   ]
  },
  {
   "cell_type": "markdown",
   "id": "f384ffe9-9bbd-47eb-bad7-83d890485bfb",
   "metadata": {},
   "source": [
    "### **ConditionalBuyer 객체와 sampling 함수 정의** \n",
    "#### ConditionalBuyer에서 주가 데이터를 필터링 할 조건을 설정하는 함수 sampling을 직접 정의한다. 종가 변화율이 30% 이상이면 제외하며, 종가 변화율이 너무 낮은 -0.05 ~ 0.05 인 데이터는 제외하고, 거래대금이 10억 이상인 데이터셋만을 사용하도록 조건을 생성했다. "
   ]
  },
  {
   "cell_type": "code",
   "execution_count": 6,
   "id": "bc29b819-a7e3-4a52-910c-51a0587ff752",
   "metadata": {},
   "outputs": [],
   "source": [
    "b1_ls = sai.ConditionalBuyer()\n",
    "\n",
    "def sampling1(df): \n",
    "    condition1 = (-0.3 <= df.D0_Change) & (df.D0_Change <= 0.3) \n",
    "    condition2 = (df.D0_Close * df.D0_Volume) >= 1000000000 \n",
    "    condition3 = (-0.05 >= df.D0_Change) | (0.05 <= df.D0_Change) \n",
    "    condition = condition1 & condition2 & condition3  \n",
    "    return condition\n",
    "\n",
    "b1_ls.condition = sampling1"
   ]
  },
  {
   "cell_type": "markdown",
   "id": "67993c84-cbca-4784-b5a9-849f5c4848de",
   "metadata": {},
   "source": [
    "### **MachinelearnigBuyer 객체 정의** \n",
    "#### Machinelearning Buyer는 인공지능 모델 학습을 담당한다. 인공지능 모델과 관련된 정보들은 모두 Machinelearning Buyer 객체의 속성에 넣어줘야 한다. "
   ]
  },
  {
   "cell_type": "code",
   "execution_count": 7,
   "id": "4f0ab471-5e98-4758-a311-f5e93e7cd235",
   "metadata": {},
   "outputs": [],
   "source": [
    "b2_ls = sai.MachinelearningBuyer()"
   ]
  },
  {
   "cell_type": "markdown",
   "id": "b7803b1b-bd38-4d9c-805a-301fdb5c881b",
   "metadata": {},
   "source": [
    "#### 첫번째로, 데이터를 3차원으로 변환해주는 함수를 저장하는 **data_transform** 속성이다. "
   ]
  },
  {
   "cell_type": "markdown",
   "id": "7ae27e72-e6ef-4dc6-86e2-ef2baf3f7a6b",
   "metadata": {},
   "source": [
    "### **transform 함수 정의** \n",
    "#### 아래의 그림을 보면, 현재 우리가 갖고 있는 주가 데이터의 모양이 왼쪽에 나와있다. \n",
    "#### 원래 데이터의 shape은 **(828290, 483)** 이었다. 이를 딥러닝 모델에 넣어주기 위하여 3차원 shape으로 변환해야한다. "
   ]
  },
  {
   "attachments": {
    "abbb4358-5fc2-424f-a516-8e43b6e6b358.png": {
     "image/png": "[encoded data removed]"
    }
   },
   "cell_type": "markdown",
   "id": "a17f27b9-1ebd-4947-ba8f-ba09e29072a7",
   "metadata": {},
   "source": [
    "![image.png](attachment:abbb4358-5fc2-424f-a516-8e43b6e6b358.png)"
   ]
  },
  {
   "cell_type": "markdown",
   "id": "319c3941-f182-438d-bc48-46221a9bdd90",
   "metadata": {},
   "source": [
    "#### 즉, 하나의 행에 총 **10일 x 48개 컬럼 = 480개의 컬럼** 으로 이루어져있던 종속변수를 (data_length, sequence_length, dimension) 으로 변환하여 3차원인 **(828290, 10, 48)** 의 shape으로 만들어주는 작업이다. "
   ]
  },
  {
   "cell_type": "code",
   "execution_count": 8,
   "id": "a9b2627a-c9ab-4791-b458-084be5de258f",
   "metadata": {},
   "outputs": [],
   "source": [
    "# User-defined functions (users who want deep learning modeling)\n",
    "def transform1(data): # A function that converts into a two-dimensional structure / data: list (lst_time_series)\n",
    "    data_2d = []\n",
    "    n_col = int(len(data[0]) / 10) \n",
    "    for row in data:      \n",
    "        data_2d.append([])\n",
    "        for i in range(0, len(row), n_col):\n",
    "            data_2d[-1].append(row[i:i+n_col])\n",
    "    \n",
    "    return np.array(data_2d)\n",
    "    \n",
    "\n",
    "# Directly define a two-dimensional structure transformation function (transform) and store it in the data_transform property\n",
    "b2_ls.data_transform = transform1 "
   ]
  },
  {
   "cell_type": "markdown",
   "id": "fd2fe099-13ea-4a45-b3cc-68e38833b1c2",
   "metadata": {},
   "source": [
    "#### 3차원 데이터로 변환하는 함수를 정의했으면, data_transform 속성에 추가해준다.  \n",
    "#### 그 다음으로는 Machinelearning Buyer 객체의 핵심인 딥러닝 모델을 정의한다. "
   ]
  },
  {
   "cell_type": "markdown",
   "id": "cee491ed-e329-4559-8c8a-6220d17a5a03",
   "metadata": {},
   "source": [
    "### **딥러닝 모델 정의**\n",
    "#### 딥러닝 모델을 정의할 때는 먼저 `framework`속성에 어떤 프레임워크를 사용할 것인지 명시한다.\n",
    "#### 그 다음 keras의 model.fit() 메서드의 매개변수로 들어갈 값들을 `parms` 속성에 dictionary 형태로 넣어준다. 마지막으로 딥러닝 모델을 정의하고, compile 코드를 작성한다. \n",
    "#### 우리는 다음날 종가가 2% 이상 올랐는지를 예측하는 이진분류 모델을 생성해야하므로, 마지막 층은 1개의 유닛과 sigmoid 활성화 함수를 사용한다. 손실함수도 그에 맞게 binary_crossentropy를 사용한다. "
   ]
  },
  {
   "cell_type": "code",
   "execution_count": 9,
   "id": "1b468238-9216-4168-a1a6-eab1e7bd1a52",
   "metadata": {},
   "outputs": [
    {
     "name": "stdout",
     "output_type": "stream",
     "text": [
      "WARNING:tensorflow:Layer lstm will not use cuDNN kernels since it doesn't meet the criteria. It will use a generic GPU kernel as fallback when running on GPU.\n"
     ]
    },
    {
     "name": "stderr",
     "output_type": "stream",
     "text": [
      "2023-09-04 10:23:11.494989: I tensorflow/core/platform/cpu_feature_guard.cc:193] This TensorFlow binary is optimized with oneAPI Deep Neural Network Library (oneDNN) to use the following CPU instructions in performance-critical operations:  AVX2 FMA\n",
      "To enable them in other operations, rebuild TensorFlow with the appropriate compiler flags.\n",
      "2023-09-04 10:23:11.637669: I tensorflow/stream_executor/cuda/cuda_gpu_executor.cc:980] successful NUMA node read from SysFS had negative value (-1), but there must be at least one NUMA node, so returning NUMA node zero\n",
      "2023-09-04 10:23:11.639195: I tensorflow/stream_executor/cuda/cuda_gpu_executor.cc:980] successful NUMA node read from SysFS had negative value (-1), but there must be at least one NUMA node, so returning NUMA node zero\n",
      "2023-09-04 10:23:11.640480: I tensorflow/stream_executor/cuda/cuda_gpu_executor.cc:980] successful NUMA node read from SysFS had negative value (-1), but there must be at least one NUMA node, so returning NUMA node zero\n",
      "2023-09-04 10:23:12.444312: I tensorflow/stream_executor/cuda/cuda_gpu_executor.cc:980] successful NUMA node read from SysFS had negative value (-1), but there must be at least one NUMA node, so returning NUMA node zero\n",
      "2023-09-04 10:23:12.445662: I tensorflow/stream_executor/cuda/cuda_gpu_executor.cc:980] successful NUMA node read from SysFS had negative value (-1), but there must be at least one NUMA node, so returning NUMA node zero\n",
      "2023-09-04 10:23:12.446884: I tensorflow/stream_executor/cuda/cuda_gpu_executor.cc:980] successful NUMA node read from SysFS had negative value (-1), but there must be at least one NUMA node, so returning NUMA node zero\n",
      "2023-09-04 10:23:12.448178: I tensorflow/core/common_runtime/gpu/gpu_device.cc:1616] Created device /job:localhost/replica:0/task:0/device:GPU:0 with 22243 MB memory:  -> device: 0, name: NVIDIA GeForce RTX 3090, pci bus id: 0000:21:00.0, compute capability: 8.6\n"
     ]
    },
    {
     "name": "stdout",
     "output_type": "stream",
     "text": [
      "WARNING:tensorflow:Layer lstm_1 will not use cuDNN kernels since it doesn't meet the criteria. It will use a generic GPU kernel as fallback when running on GPU.\n",
      "WARNING:tensorflow:Layer lstm_2 will not use cuDNN kernels since it doesn't meet the criteria. It will use a generic GPU kernel as fallback when running on GPU.\n"
     ]
    }
   ],
   "source": [
    "from keras.callbacks import EarlyStopping\n",
    "\n",
    "# deep learning framework \n",
    "b2_ls.framework = \"tensorflow\"\n",
    "\n",
    "# parameters for model.fit() \n",
    "early_stopping = EarlyStopping(monitor='val_loss', patience=7)\n",
    "b2_ls.params = {\n",
    "    \"epochs\": 20, \n",
    "    \"batch_size\": 64,\n",
    "    \"callbacks\": [early_stopping]\n",
    "    }\n",
    "\n",
    "#model.add(keras.layers.Dropout(0.2))\n",
    "# defines a model \n",
    "model = keras.models.Sequential()\n",
    "model.add(keras.layers.InputLayer(input_shape=(10, 48)))\n",
    "model.add(keras.layers.LSTM(128, activation='selu', return_sequences=True))\n",
    "model.add(keras.layers.LSTM(64, activation='selu', return_sequences=True))\n",
    "model.add(keras.layers.LSTM(32, activation='selu', return_sequences=False))\n",
    "model.add(keras.layers.Dense(1, activation='sigmoid'))\n",
    "    \n",
    "model.compile(optimizer=keras.optimizers.Adam(\n",
    "    # learning_rate=keras.optimizers.schedules.ExponentialDecay(0.05,decay_steps=100000,decay_rate=0.96)), \n",
    "    learning_rate = 0.001), \n",
    "    loss=\"binary_crossentropy\",\n",
    "    metrics=['accuracy'])\n",
    "\n",
    "b2_ls.algorithm = model"
   ]
  },
  {
   "cell_type": "markdown",
   "id": "470a982c-f560-4910-869c-8e59e160c7de",
   "metadata": {},
   "source": [
    "#### 모델과 관련된 정보들을 모두 설정하였으면, 정의한 모델을 `algorithm` 속성에 넣어준다. \n",
    "#### Buyer 의 서브 객체들인 Conditional Buyer와 Machinelearning Buyer를 모두 정의해주었고, 이번에는 Seller의 서브 객체인 SubSeller를 정의한다. "
   ]
  },
  {
   "cell_type": "markdown",
   "id": "0ab6668f-2de9-406b-8d43-276144c4a5c9",
   "metadata": {},
   "source": [
    "### **SubSeller 객체 정의** \n",
    "#### SubSeller 객체는 매수한 주식을 매수 날짜 다음날에 모두 되파는 방법만을 제공하고있다. 이러한 SubSeller 객체를 하나 생성해준다. "
   ]
  },
  {
   "cell_type": "code",
   "execution_count": 10,
   "id": "6eade2b5-4607-4ed0-bc8f-193892ed8e96",
   "metadata": {},
   "outputs": [],
   "source": [
    "sell_all = sai.SubSeller() "
   ]
  },
  {
   "cell_type": "markdown",
   "id": "0f59c873-70fc-48be-8b53-3f9c83d5c70e",
   "metadata": {},
   "source": [
    "#### 이제 트레이더를 정의할 준비를 모두 끝마쳤다. "
   ]
  },
  {
   "cell_type": "markdown",
   "id": "8970028e-0ee0-4106-bb2c-272af9ceb8db",
   "metadata": {},
   "source": [
    "### **트레이더, Buyer, Seller 객체 정의** \n",
    "#### 트레이더 객체에는 트레이더를 구분하기 위한 `name` 속성, 종속변수를 설정하는 `label` 속성, Buyer, Seller 객체를 저장하는 `buyer` 속성과 `seller` 속성이 있다. "
   ]
  },
  {
   "cell_type": "code",
   "execution_count": 11,
   "id": "a4c9a144-4de7-424a-9d4f-c4fe26e7cd6e",
   "metadata": {},
   "outputs": [],
   "source": [
    "t4 = sai.Trader()\n",
    "t4.name = 'saiLSTM_tf' \n",
    "t4.label = 'class&0.02' \n",
    "t4.buyer = sai.Buyer([b1_ls, b2_ls]) \n",
    "t4.seller = sai.Seller(sell_all)\n",
    "\n",
    "lst_trader.append(t4)"
   ]
  },
  {
   "cell_type": "markdown",
   "id": "b1be70c1-ae66-4eda-bc20-15685a25affb",
   "metadata": {},
   "source": [
    "#### 여기서 label을 보면, \"class&0.02\"라고 작성되어있는데, **classification** 문제이며, **다음날 종가 변화율**이 **0.02** 이상이면 1, 그렇지 않으면 0으로 이진분류한다는 뜻이다. 분류로 하고싶지 않으면 \"reg\"라고 설정하여, 다음날 종가 변화율 (next_change) 자체를 종속변수로 사용할 수 있다. \n",
    "#### buyer에는 Buyer 객체를 호출할 때 리스트 안에 위에서 정의했던 conditional buyer와 machinelearning buyer를 넣고, seller는 바로 SubSeller 객체를 넣어준다. "
   ]
  },
  {
   "cell_type": "markdown",
   "id": "c26b17af-0818-44aa-b32c-cd20d730f2dd",
   "metadata": {},
   "source": [
    "<br> \n",
    "\n",
    "#### 지금까지 keras 프레임워크로 LSTM 모델을 포함한 트레이더를 정의했다. 아래에는 Transformer 모델링을 진행한다.  \n",
    "\n",
    "## **2) Transformer**\n",
    "#### Transformer는 하나의 셀에 작성하였으며, 위의 LSTM 과 모든 방법이 동일하다. 다른 점은 `algorithm` 속성에 들어가는 모델의 구조 뿐이다. "
   ]
  },
  {
   "cell_type": "code",
   "execution_count": 6,
   "id": "6ebf5874-cef2-4044-9ae8-1a36ac8c1351",
   "metadata": {},
   "outputs": [],
   "source": [
    "import tensorflow as tf\n",
    "from tensorflow.keras.layers import Input, Dense, Embedding, GlobalAveragePooling1D\n",
    "from tensorflow.keras.models import Model\n",
    "from tensorflow.keras.optimizers import Adam\n",
    "from tensorflow import keras\n",
    "\n",
    "import numpy as np \n",
    "\n",
    "b1_tr = sai.ConditionalBuyer()\n",
    "\n",
    "def sampling6(df): \n",
    "    condition1 = (-0.3 <= df.D0_Change) & (df.D0_Change <= 0.3) \n",
    "    condition2 = (df.D0_Close * df.D0_Volume) >= 100000000 \n",
    "    condition3 = (-0.05 >= df.D0_Change) | (0.05 <= df.D0_Change) \n",
    "    condition = condition1 & condition2 & condition3\n",
    "    return condition\n",
    "\n",
    "b1_tr.condition = sampling6\n",
    "\n",
    "\n",
    "b2_tr = sai.MachinelearningBuyer()\n",
    "\n",
    "# User-defined functions (users who want deep learning modeling)\n",
    "def transform(data): # A function that converts into a two-dimensional structure / data: list (lst_time_series)\n",
    "    data_2d = []\n",
    "    n_col = int(len(data[0]) / 10) \n",
    "    for row in data:      \n",
    "        data_2d.append([])\n",
    "        for i in range(0, len(row), n_col):\n",
    "            data_2d[-1].append(row[i:i+n_col])\n",
    "    \n",
    "    return np.array(data_2d)\n",
    "    \n",
    "\n",
    "# Directly define a two-dimensional structure transformation function (transform) and store it in the data_transform property\n",
    "b2_tr.data_transform = transform \n",
    "\n",
    "# deep learning framework \n",
    "b2_tr.framework = \"tensorflow\"\n",
    "\n",
    "# parameters for model.fit() \n",
    "b2_tr.params = {\n",
    "    \"epochs\": 10, \n",
    "    \"batch_size\": 64,\n",
    "    }\n",
    "\n",
    "##### defines a model ##### \n",
    "def transformer_encoder(inputs, d_model, num_heads, ff_dim, num_blocks, dropout=0.1):\n",
    "    # Multi-head self-attention layer\n",
    "    x = tf.keras.layers.MultiHeadAttention(\n",
    "        key_dim=d_model, num_heads=num_heads, dropout=dropout\n",
    "    )(inputs, inputs)\n",
    "    x = tf.keras.layers.Dropout(dropout)(x)\n",
    "    x = tf.keras.layers.LayerNormalization(epsilon=1e-6)(x + inputs)\n",
    "    \n",
    "    # Feedforward neural network\n",
    "    ffn = tf.keras.Sequential([\n",
    "        tf.keras.layers.Dense(ff_dim, activation='relu'),\n",
    "        tf.keras.layers.Dense(d_model),\n",
    "    ])\n",
    "    x = ffn(x)\n",
    "    x = tf.keras.layers.Dropout(dropout)(x)\n",
    "    x = tf.keras.layers.LayerNormalization(epsilon=1e-6)(x + inputs)\n",
    "    \n",
    "    return x\n",
    "\n",
    "def build_transformer_model(input_shape, d_model, num_heads, ff_dim, num_blocks, dropout=0.1):\n",
    "    inputs = Input(shape=input_shape)\n",
    "    x = inputs\n",
    "    # x = Embedding(input_dim=input_shape[0], output_dim=d_model)(inputs)\n",
    "    \n",
    "    for _ in range(num_blocks):\n",
    "        x = transformer_encoder(x, d_model, num_heads, ff_dim, dropout)\n",
    "    \n",
    "    x = GlobalAveragePooling1D(data_format='channels_last')(x)\n",
    "    outputs = Dense(1, activation='sigmoid')(x)\n",
    "    \n",
    "    model = Model(inputs=inputs, outputs=outputs)\n",
    "    return model\n",
    "\n",
    "# 모델 파라미터 설정\n",
    "input_shape, d_model, num_heads, ff_dim, num_blocks = (10, 48), 48, 6, 256, 2 \n",
    "\n",
    "# 트랜스포머 모델 빌드\n",
    "model = build_transformer_model(input_shape, d_model, num_heads, ff_dim, num_blocks)\n",
    "\n",
    "# model compile     \n",
    "model.compile(optimizer=keras.optimizers.Adam(\n",
    "    learning_rate=keras.optimizers.schedules.ExponentialDecay(0.05, decay_steps=100000, decay_rate=0.96)), \n",
    "    loss='binary_crossentropy',\n",
    "    metrics=['accuracy'])\n",
    "\n",
    "b2_tr.algorithm = model\n",
    "\n",
    "sell_all = sai.SubSeller() \n",
    "\n",
    "t6 = sai.Trader()\n",
    "t6.name = 'saiLSTM_tf' \n",
    "t6.label = 'class&0.02' \n",
    "t6.buyer = sai.Buyer([b1_tr, b2_tr]) \n",
    "t6.seller = sai.Seller(sell_all)\n",
    "\n",
    "lst_trader.append(t6)"
   ]
  },
  {
   "cell_type": "markdown",
   "id": "708ed431-58ce-42b9-8ca7-3e9961e7f689",
   "metadata": {},
   "source": [
    "<br>\n",
    "\n",
    "### 위의 과정을 모두 거치면, lst_trader 안에 트레이더들이 들어가게 되고, 모델 학습 파트 함수의 인자에는 lst_trader를 넣어주어 각 trader 단위로 연산을 수행하게 된다. "
   ]
  },
  {
   "cell_type": "markdown",
   "id": "ce814e6b-467a-401d-9556-e9899d982c64",
   "metadata": {},
   "source": [
    "<br> \n",
    "<br> \n",
    "\n",
    "# **3. Trader(Model) Fitting & Evauation**"
   ]
  },
  {
   "cell_type": "markdown",
   "id": "c51d0ae8-7021-4d77-9d33-8099517f7e72",
   "metadata": {},
   "source": [
    "## **1) Save Dataset to Traders** "
   ]
  },
  {
   "cell_type": "markdown",
   "id": "f4bfb6f2-6df6-40fb-8989-87365ae8e6cc",
   "metadata": {},
   "source": [
    "#### lst_trader와 데이터 (original / scaled 데이터셋의 train / valid / test 데이터셋) 를 인자에 넣어주면 각 트레이더 내부에 데이터셋이 저장된다. \n",
    "#### (이 때, scaled 데이터셋과 valid 데이터셋은 필수가 아님.)"
   ]
  },
  {
   "cell_type": "code",
   "execution_count": 14,
   "id": "8939a05a-57fa-4f61-aeb4-0c03e8950e71",
   "metadata": {},
   "outputs": [],
   "source": [
    "sai.save_dataset(lst_trader, train_data, valid_data, test_data, train_data_scaled, valid_data_scaled, test_data_scaled)"
   ]
  },
  {
   "cell_type": "markdown",
   "id": "014fa9c5-cfda-426f-af7c-55ec75d950f3",
   "metadata": {},
   "source": [
    "<br> \n",
    "\n",
    "## **2) Model fitting**"
   ]
  },
  {
   "cell_type": "markdown",
   "id": "e462ea6c-2e43-4a03-b4e6-d8b583c47907",
   "metadata": {},
   "source": [
    "#### 각각의 트레이더 별로 모델 학습을 진행한다. \n",
    "#### `history=True` 로 설정하면, 학습과 더불어 validation 데이터셋 평가가 함께 진행되며, 아래에서 history와 학습 곡선을 그릴 수 있다. "
   ]
  },
  {
   "cell_type": "code",
   "execution_count": 5,
   "id": "b3b02997-0cc2-46b5-b1d7-5aa0a3a969c7",
   "metadata": {},
   "outputs": [],
   "source": [
    "sai.trader_train( lst_trader, history=True) "
   ]
  },
  {
   "cell_type": "markdown",
   "id": "2f708200-2256-4a74-9885-d9ea094a9b6a",
   "metadata": {},
   "source": [
    "<br> \n",
    "\n",
    "## **3) get history & learning Curve** \n",
    "#### history=True로 했을 때 이용 가능한 함수이다. history dictionary가 리턴되며, 동시에 학습 곡선 그래프를 출력한다. "
   ]
  },
  {
   "cell_type": "code",
   "execution_count": null,
   "id": "c6ea2ff8-b976-4960-a28b-595d13453308",
   "metadata": {},
   "outputs": [],
   "source": [
    "dic_history = sai.get_history_learning_curve(lst_trader)"
   ]
  },
  {
   "cell_type": "code",
   "execution_count": null,
   "id": "a21bb239-d4d4-4a68-b7b1-c448c7e1d553",
   "metadata": {},
   "outputs": [],
   "source": [
    "dic_history"
   ]
  },
  {
   "cell_type": "markdown",
   "id": "971eff06-b4d3-4038-a63f-3d5c7475e6b8",
   "metadata": {},
   "source": [
    "<br> \n",
    "\n",
    "## **4) Model evaluation and threshold settings**\n",
    "### **Model evaluation**\n",
    "#### 각각의 트레이더 별로 임계값 마다의 평가지표를 시각화 한다.  "
   ]
  },
  {
   "cell_type": "code",
   "execution_count": null,
   "id": "7bf03956-c5fc-4da6-a7a8-409430be6534",
   "metadata": {},
   "outputs": [],
   "source": [
    "sai.get_eval_by_threshold(lst_trader)"
   ]
  },
  {
   "cell_type": "markdown",
   "id": "c3217fbf-c1f2-46f2-9f99-9d59ce770007",
   "metadata": {},
   "source": [
    "### **threshold settings**\n",
    "#### 위에서 평가지표 시각화를 토대로 주식을 매수 할 예측 확률 임계값을 설정한다. \n",
    "#### histogram=True로 설정하면 validation 데이터셋으로 얼마큼의 수익을 얻을 수 있을지 검증하는 histogram이 함께 출력된다. lst_threshold 인자에 임계값을 바꿔보며 검증된 수익성으로 임계값을 판단할 수 있다. \n",
    "#### 아래의 그래프를 예로 들어 임계값이 0.5 라면, 예측 확률이 0.5 이상인 데이터들의 다음 날 종가 변화율의 평균이 0.571 이므로 0.571 만큼의 수익률을 기대할 수 있다.  "
   ]
  },
  {
   "cell_type": "code",
   "execution_count": 24,
   "id": "91dc153a-2d9c-4b07-8b25-a9f7d9fba54e",
   "metadata": {},
   "outputs": [
    {
     "name": "stdout",
     "output_type": "stream",
     "text": [
      "241/241 [==============================] - 3s 13ms/step\n"
     ]
    },
    {
     "data": {
      "text/plain": [
       "<Figure size 1152x720 with 0 Axes>"
      ]
     },
     "metadata": {},
     "output_type": "display_data"
    },
    {
     "data": {
      "text/plain": [
       "<Figure size 1152x720 with 0 Axes>"
      ]
     },
     "metadata": {},
     "output_type": "display_data"
    },
    {
     "data": {
      "image/png": "[encoded data removed]",
      "text/plain": [
       "<Figure size 1152x720 with 1 Axes>"
      ]
     },
     "metadata": {},
     "output_type": "display_data"
    }
   ],
   "source": [
    "sai.set_threshold(lst_trader, lst_threshold=[0.5], histogram=True)"
   ]
  },
  {
   "cell_type": "markdown",
   "id": "41daf461-2d1a-4c7e-bee3-bbdb48263989",
   "metadata": {},
   "source": [
    "<br> \n",
    "<br> \n",
    "\n",
    "# **4. Back-Testing**"
   ]
  },
  {
   "cell_type": "markdown",
   "id": "5a7a6bee-76df-4e2a-b820-15da4ac73ade",
   "metadata": {},
   "source": [
    "## **1) Making a sales log**\n",
    "#### 각각의 트레이더로, 모든 날짜에 대한 매수, 매도 기록을 생성한 매매일지를 df_signal_all에 넣어준다.  "
   ]
  },
  {
   "cell_type": "code",
   "execution_count": null,
   "id": "95ea3b4b-549a-4c17-88a3-1ccabbe78cd0",
   "metadata": {},
   "outputs": [],
   "source": [
    "df_signal_all = sai.decision(lst_trader, dtype='test')\n",
    "df_signal_all"
   ]
  },
  {
   "cell_type": "markdown",
   "id": "dce6208e-530e-4a3b-b90a-c6b3eb9096e4",
   "metadata": {},
   "source": [
    "<br> \n",
    "\n",
    "## **2) Simulation: Calculate the yield**\n",
    "#### 위에서 구한 매매일지 **df_signal_all**을 토대로 각 트레이더에 대한 수익률을 계산한다. \n",
    "#### `init_budget` 인자에 초기 예산을 입력하고, `fee` 인자에 수수료를 넣어준다. "
   ]
  },
  {
   "cell_type": "code",
   "execution_count": null,
   "id": "a30c51d2-2de8-4f2e-b82e-b6f761e50052",
   "metadata": {},
   "outputs": [],
   "source": [
    "df_history_all = sai.simulation(df_signal_all, init_budget=10000000, init_stock={}, fee=0.01)\n",
    "df_history_all"
   ]
  },
  {
   "cell_type": "markdown",
   "id": "1be504b3-d526-4843-afc7-cb24b28253f0",
   "metadata": {},
   "source": [
    "<br> \n",
    "\n",
    "## **3) Leader Board**\n",
    "#### 트레이더의 수익률 결과를 내림차순으로 정렬하여 데이터프레임 형태의 리더보드를 볼 수 있다. \n",
    "#### 결과는 ~~ 와 같이 나왔다. "
   ]
  },
  {
   "cell_type": "code",
   "execution_count": null,
   "id": "936dc639-a087-43ef-962e-08aefd8e31fe",
   "metadata": {},
   "outputs": [],
   "source": [
    "sai.leaderboard(df_history_all)"
   ]
  },
  {
   "cell_type": "markdown",
   "id": "81dd96ed-a1ed-4911-89e9-acde4a9fd2d2",
   "metadata": {},
   "source": [
    "<br> \n",
    "\n",
    "## **4) Visualize Results**\n",
    "#### 트레이더 별로 모든 날짜에 대한 수익률 시각화를 볼 수 있다. "
   ]
  },
  {
   "cell_type": "code",
   "execution_count": null,
   "id": "eafd8f50-6022-4579-a479-992694525b45",
   "metadata": {},
   "outputs": [],
   "source": [
    "sai.yield_plot(df_history_all)"
   ]
  },
  {
   "cell_type": "markdown",
   "id": "9f93e439-fd53-4f7d-8b99-bb44f55a546d",
   "metadata": {},
   "source": [
    "#### 결과는 ~~ 이렇다 "
   ]
  }
 ],
 "metadata": {
  "kernelspec": {
   "display_name": "Python 3 (ipykernel)",
   "language": "python",
   "name": "python3"
  },
  "language_info": {
   "codemirror_mode": {
    "name": "ipython",
    "version": 3
   },
   "file_extension": ".py",
   "mimetype": "text/x-python",
   "name": "python",
   "nbconvert_exporter": "python",
   "pygments_lexer": "ipython3",
   "version": "3.9.12"
  }
 },
 "nbformat": 4,
 "nbformat_minor": 5
}
