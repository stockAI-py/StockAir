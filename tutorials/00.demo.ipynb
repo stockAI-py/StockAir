{
 "cells": [
  {
   "cell_type": "markdown",
   "id": "48047f33-c4b7-45c3-8d0c-3bdb57c070f7",
   "metadata": {},
   "source": [
    "## stockAI\n",
    "stockAI is an integrated library for stock price big data research. From data loading to data preprocessing, machine learning model learning to backtesting, everything is available in this library.\n",
    "\n",
    "This file shows the overall flow using stockAI."
   ]
  },
  {
   "cell_type": "code",
   "execution_count": 1,
   "id": "66fee421-1dd7-49c8-afc5-979dc84098ee",
   "metadata": {},
   "outputs": [],
   "source": [
    "import os\n",
    "import sys\n",
    "sys.path.append(\"/project/stockAI/github/main/stockAI\")\n",
    "import stockAI as sai"
   ]
  },
  {
   "cell_type": "markdown",
   "id": "2d7f8c52-a42d-4e3a-93ae-a5467ca8ec2b",
   "metadata": {},
   "source": [
    "# 1. Data Loading\n",
    ">1\\) Bringing up markets by country: `sai.get_markets`  \n",
    "2) Bringing up stocks by market: `sai.get_tickers`  \n",
    "3) Load Data: `sai.load_data` \n",
    "\n",
    "<br>\n",
    "\n",
    "StockAI has a total of 69 stock market share data available. The list of available markets is as follows:\n",
    "\n",
    "`'KOSPI', 'KOSDAQ', 'KONEX', 'PNK', 'NMS', 'NYQ', 'ASX', 'NCM', 'NGM', 'ASE', 'JKT', 'GER', 'PAR', 'TOR', 'BRU', 'OBB', 'BUE', 'LSE', 'KLS', 'PCX', 'VAN', 'AMS', 'EBS', 'TWO', 'OSL', 'STO', 'CPH', 'VIE', 'SAO', 'SES', 'NSI', 'MEX', 'HKG', 'NZE', 'MCE', 'BSE', 'ISE', 'FRA', 'MCX', 'MIL', 'MUN', 'ATH', 'BER', 'ENX', 'STU', 'LIS', 'TLV', 'DUS', 'IST', 'HAM', 'HAN', 'TAL', 'TLO', 'SET', 'TAI', 'HEL', 'ICE', 'IOB', 'CNQ', 'RIS', 'KSC', 'LIT', 'KOE', 'DOH', 'EUX', 'SHH', 'CCS', 'MDD', 'SHZ', 'MAD'`\n",
    "\n",
    "\n",
    "\n",
    " "
   ]
  },
  {
   "cell_type": "markdown",
   "id": "52379c0d-ba58-44ba-8f36-eff59e9f96d8",
   "metadata": {},
   "source": [
    "### 1) Bringing up markets by country: `sai.get_markets(country:list)`  "
   ]
  },
  {
   "cell_type": "code",
   "execution_count": null,
   "id": "0e54333e-9713-465d-a6a5-cbf37bbdfd32",
   "metadata": {},
   "outputs": [],
   "source": []
  },
  {
   "cell_type": "markdown",
   "id": "ce35219a-6d23-43ef-b99f-e2f3d7683ef5",
   "metadata": {},
   "source": [
    "### 2) Bringing up stocks by market: `sai.get_tickers(date:list, tickers:list=None)`  "
   ]
  },
  {
   "cell_type": "code",
   "execution_count": null,
   "id": "16c685e5-f397-4370-80db-771be855ce61",
   "metadata": {},
   "outputs": [],
   "source": [
    "lst_tickers = sai.get_tickers(markets=['KOSPI'], date=2016)\n",
    "print(len(lst_tickers), lst_tickers[:5])"
   ]
  },
  {
   "cell_type": "markdown",
   "id": "6dc68539-5dcf-4ce6-912d-42726baf2d44",
   "metadata": {},
   "source": [
    "### 3) Load Data: `sai.load_data(date:list, tickers:list=None)`  "
   ]
  },
  {
   "cell_type": "code",
   "execution_count": null,
   "id": "587a020f-9f89-416d-b871-0243726ae44a",
   "metadata": {},
   "outputs": [],
   "source": [
    "raw_data = sai.load_data(date=['2016-01-01', '2021-12-31'], tickers=lst_tickers, )\n",
    "print(raw_data.shape)\n",
    "raw_data.head()"
   ]
  },
  {
   "cell_type": "markdown",
   "id": "1642d887-c6f9-4372-b93e-3a2888141b61",
   "metadata": {},
   "source": [
    "# 2. Data Preprocessing\n",
    ">1\\) Add Secondary Indicators: `sai.add_index`  \n",
    "2) scaling: `sai.scaling`  \n",
    "3) Convert to time series data: `sai.time_series`"
   ]
  },
  {
   "cell_type": "markdown",
   "id": "da38a687-d654-473d-b8d5-19488606729f",
   "metadata": {},
   "source": [
    "### 1) Add Secondary Indicators: `sai.add_index(data:pd.DataFrame(), index_list:list)`  \n",
    "\n",
    "- **Transaction price (end price * volume), the rate of change in the closing price of the next day (dependent variable)**  \n",
    "'trading_value','next_change'\n",
    "\n",
    "- **TA Package Delivery Assistance Indicators**  \n",
    "'MA5', 'MA20', 'MA60','MA120', 'MFI','ADI','OBV','CMF','FI','EOM_EMV','VPT','NVI','VMAP', 'BHB','BLB','KCH','KCL','KCM','DCH','DCL','DCM','UI', 'SMA','EMA','WMA','MACD','VIneg','VIpos','TRIX','MI','CCI', 'DPO','KST','Ichimoku','ParabolicSAR','STC', 'RSI','SRSI','TSI','UO','SR','WR','AO','KAMA','ROC','PPO','PVO'\n",
    "\n",
    "You can add up to 49 auxiliary indicators as a function to add auxiliary indicators.  \n",
    "( \\* The default dependent variable set in stockAI is next_change, which is added here. )"
   ]
  },
  {
   "cell_type": "code",
   "execution_count": null,
   "id": "4769bc17-05fc-449f-89d9-1df5d95d81a6",
   "metadata": {},
   "outputs": [],
   "source": [
    "check_index = ['MA5', 'MA20', 'MA60','MA120', \n",
    "             'trading_value','next_change',\n",
    "             'MFI','ADI','OBV','CMF','FI','EOM_EMV','VPT','NVI','VMAP',\n",
    "             'BHB','BLB','KCH','KCL','KCM','DCH','DCL','DCM','UI',\n",
    "             'SMA','EMA','WMA','MACD','VIneg','VIpos','TRIX','MI','CCI','DPO','KST','Ichimoku','ParabolicSAR','STC',\n",
    "             'RSI','SRSI','TSI','UO','SR','WR','AO','KAMA','ROC','PPO','PVO']\n",
    "\n",
    "check_df = sai.add_index(data=raw_data, index_list=check_index)\n",
    "check_df"
   ]
  },
  {
   "cell_type": "code",
   "execution_count": null,
   "id": "2a45b8f3-6fdd-472c-a058-7acfdc7b4df6",
   "metadata": {},
   "outputs": [],
   "source": [
    "check_df = check_df.drop(columns=['Market'])\n",
    "check_df.shape"
   ]
  },
  {
   "cell_type": "markdown",
   "id": "90582f50-8abd-4277-8b50-54a954866966",
   "metadata": {},
   "source": [
    "### 2) scaling: `sai.scaling(data:pd.DataFrame(), scaler_type:String, window_size:Int=None)`  \n",
    "\n",
    "Standardization of stock price data offers four methods: the previously well-known minmax, standard, robust scalers, and the previous day's closing price to standardize.\n",
    "- minmax\n",
    "- standard\n",
    "- robust\n",
    "- div-close"
   ]
  },
  {
   "cell_type": "code",
   "execution_count": null,
   "id": "7b633f5d-3582-401f-9ec3-fa7e2fa1a3db",
   "metadata": {},
   "outputs": [],
   "source": [
    "check_scaled_KR = sai.scaling(data=check_df, scaler_type=\"div-close\", window_size=None)\n",
    "check_scaled_KR"
   ]
  },
  {
   "cell_type": "markdown",
   "id": "2885bd9e-1537-406f-943b-76351e6dde51",
   "metadata": {},
   "source": [
    "### 3) Convert to time series data: `sai.time_series(data:pd.DataFrame(), day:Int=10)`\n",
    "\n",
    "When machine learning model predicted that machine learning model prediction, D0 to generate n-day data (D-n-1, D-1, D-1, D-1, D-1 and D0).\n",
    "\n",
    "For example, the example code below shows that transformed into the D0 standard 10 days series data."
   ]
  },
  {
   "cell_type": "code",
   "execution_count": null,
   "id": "a0402bfa-4a69-42cb-a1a9-953311bb9eb5",
   "metadata": {},
   "outputs": [],
   "source": [
    "df_time_series = sai.time_series(check_df, day=10)\n",
    "df_time_series_scaled = sai.time_series(check_scaled_KR, day=10)\n",
    "df_time_series_scaled"
   ]
  },
  {
   "cell_type": "code",
   "execution_count": null,
   "id": "da6282e4-ecda-49ea-a693-ec3b2dee0b39",
   "metadata": {},
   "outputs": [],
   "source": [
    "df_time_series.to_csv(\"time_series_0129.csv\", index=False)\n",
    "df_time_series_scaled.to_csv(\"time_series_scaled_0129.csv\", index=False)"
   ]
  },
  {
   "cell_type": "markdown",
   "id": "2f65946b-c3b4-463e-813e-b6fe4a8bd508",
   "metadata": {},
   "source": [
    "**\\* If the data is large, it takes a long time to preprocess the data, so it stores the preprocessed data, and below, it loads the stored data and uses it.**"
   ]
  },
  {
   "cell_type": "code",
   "execution_count": null,
   "id": "b8ba6f5b-77da-4c0f-a510-fa11fa7201d2",
   "metadata": {},
   "outputs": [],
   "source": [
    "df_time_series = pd.read_csv(\"time_series_0129.csv\")\n",
    "df_time_series_scaled = pd.read_csv(\"time_series_scaled_0129.csv\")"
   ]
  },
  {
   "cell_type": "code",
   "execution_count": null,
   "id": "309ed552-25ff-44eb-a743-b184060106ca",
   "metadata": {},
   "outputs": [],
   "source": [
    "data = df_time_series # 스케일링 전 데이터\n",
    "data_scaled = df_time_series_scaled # 스케일링 후 데이터\n",
    "\n",
    "# train, test dataset 분리 \n",
    "train_data = data[(data['Date'] >= '2017-01-01') & (data['Date'] <= '2020-12-31')]\n",
    "test_data = data[(data['Date'] >= '2021-01-01') & (data['Date'] <= '2021-12-31')]\n",
    "\n",
    "# train, test dataset 분리 (scaled) \n",
    "train_data_scaled = data_scaled[(data_scaled['Date'] >= '2017-01-01') & (data_scaled['Date'] <= '2020-12-31')]\n",
    "test_data_scaled = data_scaled[(data_scaled['Date'] >= '2021-01-01') & (data_scaled['Date'] <= '2021-12-31')]\n",
    "\n",
    "print(train_data.shape, test_data.shape)\n",
    "print(train_data_scaled.shape, test_data_scaled.shape)"
   ]
  },
  {
   "cell_type": "markdown",
   "id": "6dddab42-bf5f-416c-bcfa-7da0225be8ee",
   "metadata": {},
   "source": [
    "# 3. Trader \n",
    ">1\\) Trader Definitions  \n",
    "2) Save Dataset to Traders: `sai.save_dataset`  \n",
    "3) Model fitting: `sai.trader_train`   \n",
    "4) Model evaluation and threshold settings: `sai.get_eval_by_threshold`, `sai.set_threshold`"
   ]
  },
  {
   "cell_type": "markdown",
   "id": "a14d7f64-2df0-4a4d-aff9-cd3433efa3d7",
   "metadata": {},
   "source": [
    "### 1) Trader Definitions"
   ]
  },
  {
   "cell_type": "code",
   "execution_count": null,
   "id": "7401c44d-ca3b-4afe-9e02-a3ea7eb7b412",
   "metadata": {},
   "outputs": [],
   "source": [
    "# trader 객체를 저장하는 리스트 \n",
    "lst_trader = [] "
   ]
  },
  {
   "cell_type": "code",
   "execution_count": null,
   "id": "20684011-2fa9-4ff4-b15e-fb9fe199cd3d",
   "metadata": {},
   "outputs": [],
   "source": [
    "from lightgbm import LGBMClassifier\n",
    "\n",
    "# conditional_buyer: 데이터 필터링 조건으로 매수를 결정하는 객체  \n",
    "b1_pr = sai.conditional_buyer()\n",
    "\n",
    "def sampling3(df): # 조건 함수 생성 \n",
    "    condition1 = (-0.3 <= df.D0_Change) & (df.D0_Change <= 0.3) # 상한가, 하한가 초과하는 예외 제거 \n",
    "    condition2 = df.D0_trading_value >= 1000000000 # 변동성 조건 1: 거래대금 10억 이상 \n",
    "    condition3 = (-0.05 >= df.D0_Change) | (0.05 <= df.D0_Change) # 변동성 조건 2: 금일 주가 변화율 5%이상 \n",
    "    condition = condition1 & condition2 & condition3\n",
    "    return condition\n",
    "\n",
    "b1_pr.condition = sampling3  # 조건 함수를 직접 정의하여(sampling1) condition 속성에 저장 \n",
    "\n",
    "\n",
    "# machinelearning_buyer: 머신러닝 모델로 매수를 결정하는 객체 \n",
    "b2_pr = sai.machinelearning_buyer()\n",
    "\n",
    "# 사용자 정의 모델을 algorithm 속성에 저장 \n",
    "scale_pos_weight = round(72/28 , 2)\n",
    "params = {  'random_state' : 42,\n",
    "            'scale_pos_weight' : scale_pos_weight,\n",
    "            'learning_rate' : 0.1, \n",
    "            'num_iterations' : 1000,\n",
    "            'max_depth' : 4,\n",
    "            'n_jobs' : 30,\n",
    "            'boost_from_average' : False,\n",
    "            'objective' : 'binary' }\n",
    "\n",
    "b2_pr.algorithm =  LGBMClassifier( **params )\n",
    "\n",
    "\n",
    "# SubSeller: 다음 날 모두 매도를 결정하는 객체  \n",
    "sell_all = sai.SubSeller() \n",
    "\n",
    "\n",
    "# Trader 객체   \n",
    "t3 = sai.Trader()\n",
    "t3.name = 'PororoLightGBM' # Trader의 이름\n",
    "t3.label = 'class&0.02' # Trader 종속변수 설정 \n",
    "t3.buyer = sai.Buyer([b1_pr, b2_pr]) # [ conditional buyer, machinelearning buyer ] \n",
    "t3.seller = sai.Seller(sell_all)\n",
    "\n",
    "lst_trader.append(t3)"
   ]
  },
  {
   "cell_type": "markdown",
   "id": "bfeff60f-0e78-4310-85fb-0a762da04392",
   "metadata": {},
   "source": [
    "### 2) Save Dataset to Traders: `sai.save_dataset`  "
   ]
  },
  {
   "cell_type": "code",
   "execution_count": null,
   "id": "6487eec4-d897-404e-9eb6-1dc3d277fe93",
   "metadata": {},
   "outputs": [],
   "source": []
  },
  {
   "cell_type": "markdown",
   "id": "dc110744-987b-42fe-952d-b2bd6b8196ea",
   "metadata": {},
   "source": [
    "### 3) Model fitting: `sai.trader_train`   "
   ]
  },
  {
   "cell_type": "code",
   "execution_count": null,
   "id": "0edb5ce5-95bd-41a6-8d5f-30afa0c5568d",
   "metadata": {},
   "outputs": [],
   "source": []
  },
  {
   "cell_type": "markdown",
   "id": "906eacc0-a0a0-4789-b84d-20a6618cc5d2",
   "metadata": {},
   "source": [
    "### 4) Model evaluation and threshold settings: `get_eval_by_threshold`, `set_threshold` "
   ]
  },
  {
   "cell_type": "code",
   "execution_count": null,
   "id": "33fce204-ca9c-405f-9b08-88436954ba03",
   "metadata": {},
   "outputs": [],
   "source": []
  },
  {
   "cell_type": "markdown",
   "id": "da4ec707-cde1-44a8-9659-50e351da1e90",
   "metadata": {},
   "source": [
    "# 4. Back-Testing\n",
    ">1\\) Making a sales log: `sai.decision`  \n",
    "2) Simulation: Calculate the yield: `sai.simulation`  \n",
    "3) Leader Board: `sai.leaderboard`   \n",
    "4) Visualize Results: `sai.yield_plot`"
   ]
  },
  {
   "cell_type": "markdown",
   "id": "3cd92d67-0bf5-424f-a215-b6f75629003e",
   "metadata": {},
   "source": [
    "### 1) Making a sales log: `sai.decision`  "
   ]
  },
  {
   "cell_type": "code",
   "execution_count": null,
   "id": "a5412f99-4e32-448b-b915-9290650bbbe0",
   "metadata": {},
   "outputs": [],
   "source": []
  },
  {
   "cell_type": "markdown",
   "id": "969fad68-1ec9-4d22-8b73-58bef787b1db",
   "metadata": {},
   "source": [
    "### 2) Simulation: Calculate the yield: `sai.simulation`  "
   ]
  },
  {
   "cell_type": "code",
   "execution_count": null,
   "id": "6a105d03-cbfe-4cb8-bfb5-3f9f68479fd4",
   "metadata": {},
   "outputs": [],
   "source": []
  },
  {
   "cell_type": "markdown",
   "id": "91c1a051-a15e-40df-8f44-adc1ff726d7b",
   "metadata": {},
   "source": [
    "### 3) Leader Board: `sai.leaderboard`"
   ]
  },
  {
   "cell_type": "code",
   "execution_count": null,
   "id": "c02602b9-ba8e-40e9-bfd8-c061cf6cba92",
   "metadata": {},
   "outputs": [],
   "source": []
  },
  {
   "cell_type": "markdown",
   "id": "14e9e506-719e-4e63-a049-4535aaab214b",
   "metadata": {},
   "source": [
    "### 4) Visualize Results: `sai.yield_plot`"
   ]
  },
  {
   "cell_type": "code",
   "execution_count": null,
   "id": "caf8eb9b-60a6-4300-a954-caf30e4ab18d",
   "metadata": {},
   "outputs": [],
   "source": []
  }
 ],
 "metadata": {
  "kernelspec": {
   "display_name": "Python 3 (ipykernel)",
   "language": "python",
   "name": "python3"
  },
  "language_info": {
   "codemirror_mode": {
    "name": "ipython",
    "version": 3
   },
   "file_extension": ".py",
   "mimetype": "text/x-python",
   "name": "python",
   "nbconvert_exporter": "python",
   "pygments_lexer": "ipython3",
   "version": "3.9.12"
  }
 },
 "nbformat": 4,
 "nbformat_minor": 5
}
